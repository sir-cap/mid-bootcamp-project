{
 "cells": [
  {
   "cell_type": "code",
   "execution_count": 416,
   "id": "0740ecc9",
   "metadata": {},
   "outputs": [
    {
     "name": "stdout",
     "output_type": "stream",
     "text": [
      "Requirement already satisfied: imblearn in /Users/diogocapitao/opt/anaconda3/lib/python3.9/site-packages (0.0)\r\n",
      "Requirement already satisfied: imbalanced-learn in /Users/diogocapitao/opt/anaconda3/lib/python3.9/site-packages (from imblearn) (0.10.1)\r\n",
      "Requirement already satisfied: scipy>=1.3.2 in /Users/diogocapitao/opt/anaconda3/lib/python3.9/site-packages (from imbalanced-learn->imblearn) (1.9.1)\r\n",
      "Requirement already satisfied: scikit-learn>=1.0.2 in /Users/diogocapitao/opt/anaconda3/lib/python3.9/site-packages (from imbalanced-learn->imblearn) (1.0.2)\r\n",
      "Requirement already satisfied: numpy>=1.17.3 in /Users/diogocapitao/opt/anaconda3/lib/python3.9/site-packages (from imbalanced-learn->imblearn) (1.21.5)\r\n",
      "Requirement already satisfied: threadpoolctl>=2.0.0 in /Users/diogocapitao/opt/anaconda3/lib/python3.9/site-packages (from imbalanced-learn->imblearn) (2.2.0)\r\n",
      "Requirement already satisfied: joblib>=1.1.1 in /Users/diogocapitao/opt/anaconda3/lib/python3.9/site-packages (from imbalanced-learn->imblearn) (1.2.0)\r\n"
     ]
    }
   ],
   "source": [
    "import pandas as pd\n",
    "import numpy as np\n",
    "import seaborn as sns\n",
    "import matplotlib.pyplot as plt\n",
    "from sklearn.preprocessing import Normalizer\n",
    "import datetime as dt\n",
    "from sklearn.model_selection import train_test_split\n",
    "from sklearn.linear_model import LogisticRegression\n",
    "from sklearn.metrics import r2_score\n",
    "from sklearn.model_selection import train_test_split\n",
    "from sklearn.neighbors import KNeighborsRegressor\n",
    "from sklearn import linear_model\n",
    "from sklearn.metrics import confusion_matrix, ConfusionMatrixDisplay\n",
    "\n",
    "from scipy.stats import shapiro\n",
    "!pip install imblearn"
   ]
  },
  {
   "cell_type": "code",
   "execution_count": 417,
   "id": "84ac1c63",
   "metadata": {},
   "outputs": [],
   "source": [
    "# Adding datasets Tiktok (from 2019 to 2022) + Spotify unpopular songs"
   ]
  },
  {
   "cell_type": "code",
   "execution_count": 418,
   "id": "949af7ef",
   "metadata": {},
   "outputs": [
    {
     "data": {
      "text/plain": [
       "(263, 17)"
      ]
     },
     "execution_count": 418,
     "metadata": {},
     "output_type": "execute_result"
    }
   ],
   "source": [
    "tiktok22 = pd.read_csv('TikTok_songs_2022.csv',index_col=0)\n",
    "tiktok22.shape "
   ]
  },
  {
   "cell_type": "code",
   "execution_count": 419,
   "id": "dba337c8",
   "metadata": {},
   "outputs": [
    {
     "data": {
      "text/plain": [
       "(4073, 16)"
      ]
     },
     "execution_count": 419,
     "metadata": {},
     "output_type": "execute_result"
    }
   ],
   "source": [
    "unpopular = pd.read_csv('unpopular_songs.csv',index_col=0)\n",
    "unpopular.shape "
   ]
  },
  {
   "cell_type": "code",
   "execution_count": 420,
   "id": "4c6dae02",
   "metadata": {},
   "outputs": [
    {
     "data": {
      "text/plain": [
       "(190, 17)"
      ]
     },
     "execution_count": 420,
     "metadata": {},
     "output_type": "execute_result"
    }
   ],
   "source": [
    "tiktok21= pd.read_csv('TikTok_songs_2021.csv',index_col=0)\n",
    "tiktok21.shape"
   ]
  },
  {
   "cell_type": "code",
   "execution_count": 421,
   "id": "4866b61a",
   "metadata": {},
   "outputs": [
    {
     "data": {
      "text/plain": [
       "(292, 17)"
      ]
     },
     "execution_count": 421,
     "metadata": {},
     "output_type": "execute_result"
    }
   ],
   "source": [
    "tiktok20= pd.read_csv('TikTok_songs_2020.csv',index_col=0)\n",
    "tiktok20.shape"
   ]
  },
  {
   "cell_type": "code",
   "execution_count": 422,
   "id": "e2f4d1b1",
   "metadata": {},
   "outputs": [
    {
     "data": {
      "text/plain": [
       "(223, 17)"
      ]
     },
     "execution_count": 422,
     "metadata": {},
     "output_type": "execute_result"
    }
   ],
   "source": [
    "\n",
    "tiktok19= pd.read_csv('TikTok_songs_2019.csv',index_col=0)\n",
    "tiktok19.shape"
   ]
  },
  {
   "cell_type": "code",
   "execution_count": 423,
   "id": "14fd71e8",
   "metadata": {},
   "outputs": [
    {
     "data": {
      "text/plain": [
       "(968, 17)"
      ]
     },
     "execution_count": 423,
     "metadata": {},
     "output_type": "execute_result"
    }
   ],
   "source": [
    "\n",
    "\n",
    "tiktok = pd.concat((tiktok19,tiktok20, tiktok21, tiktok22), axis=0)\n",
    "tiktok.shape"
   ]
  },
  {
   "cell_type": "code",
   "execution_count": 424,
   "id": "77580c69",
   "metadata": {},
   "outputs": [],
   "source": [
    "# both dataframes are not balanced\n"
   ]
  },
  {
   "cell_type": "code",
   "execution_count": 425,
   "id": "e35c9827",
   "metadata": {},
   "outputs": [
    {
     "data": {
      "text/html": [
       "<div>\n",
       "<style scoped>\n",
       "    .dataframe tbody tr th:only-of-type {\n",
       "        vertical-align: middle;\n",
       "    }\n",
       "\n",
       "    .dataframe tbody tr th {\n",
       "        vertical-align: top;\n",
       "    }\n",
       "\n",
       "    .dataframe thead th {\n",
       "        text-align: right;\n",
       "    }\n",
       "</style>\n",
       "<table border=\"1\" class=\"dataframe\">\n",
       "  <thead>\n",
       "    <tr style=\"text-align: right;\">\n",
       "      <th></th>\n",
       "      <th>artist_name</th>\n",
       "      <th>artist_pop</th>\n",
       "      <th>album</th>\n",
       "      <th>track_pop</th>\n",
       "      <th>danceability</th>\n",
       "      <th>energy</th>\n",
       "      <th>loudness</th>\n",
       "      <th>mode</th>\n",
       "      <th>key</th>\n",
       "      <th>speechiness</th>\n",
       "      <th>acousticness</th>\n",
       "      <th>instrumentalness</th>\n",
       "      <th>liveness</th>\n",
       "      <th>valence</th>\n",
       "      <th>tempo</th>\n",
       "      <th>time_signature</th>\n",
       "      <th>duration_ms</th>\n",
       "    </tr>\n",
       "    <tr>\n",
       "      <th>track_name</th>\n",
       "      <th></th>\n",
       "      <th></th>\n",
       "      <th></th>\n",
       "      <th></th>\n",
       "      <th></th>\n",
       "      <th></th>\n",
       "      <th></th>\n",
       "      <th></th>\n",
       "      <th></th>\n",
       "      <th></th>\n",
       "      <th></th>\n",
       "      <th></th>\n",
       "      <th></th>\n",
       "      <th></th>\n",
       "      <th></th>\n",
       "      <th></th>\n",
       "      <th></th>\n",
       "    </tr>\n",
       "  </thead>\n",
       "  <tbody>\n",
       "    <tr>\n",
       "      <th>Shake It</th>\n",
       "      <td>Metro Station</td>\n",
       "      <td>53</td>\n",
       "      <td>Metro Station</td>\n",
       "      <td>68</td>\n",
       "      <td>0.618</td>\n",
       "      <td>0.955</td>\n",
       "      <td>-3.836</td>\n",
       "      <td>1</td>\n",
       "      <td>4</td>\n",
       "      <td>0.0798</td>\n",
       "      <td>0.002210</td>\n",
       "      <td>0.000003</td>\n",
       "      <td>0.4860</td>\n",
       "      <td>0.790</td>\n",
       "      <td>150.034</td>\n",
       "      <td>4</td>\n",
       "      <td>179947</td>\n",
       "    </tr>\n",
       "    <tr>\n",
       "      <th>Chinese New Year</th>\n",
       "      <td>SALES</td>\n",
       "      <td>61</td>\n",
       "      <td>SALES - EP</td>\n",
       "      <td>53</td>\n",
       "      <td>0.744</td>\n",
       "      <td>0.845</td>\n",
       "      <td>-7.422</td>\n",
       "      <td>0</td>\n",
       "      <td>4</td>\n",
       "      <td>0.2530</td>\n",
       "      <td>0.759000</td>\n",
       "      <td>0.232000</td>\n",
       "      <td>0.1000</td>\n",
       "      <td>0.749</td>\n",
       "      <td>75.221</td>\n",
       "      <td>4</td>\n",
       "      <td>160000</td>\n",
       "    </tr>\n",
       "    <tr>\n",
       "      <th>Baby I'm Yours</th>\n",
       "      <td>Breakbot</td>\n",
       "      <td>57</td>\n",
       "      <td>By Your Side</td>\n",
       "      <td>69</td>\n",
       "      <td>0.829</td>\n",
       "      <td>0.792</td>\n",
       "      <td>-3.755</td>\n",
       "      <td>0</td>\n",
       "      <td>2</td>\n",
       "      <td>0.0668</td>\n",
       "      <td>0.726000</td>\n",
       "      <td>0.000006</td>\n",
       "      <td>0.1220</td>\n",
       "      <td>0.758</td>\n",
       "      <td>118.050</td>\n",
       "      <td>4</td>\n",
       "      <td>215507</td>\n",
       "    </tr>\n",
       "    <tr>\n",
       "      <th>The Git Up</th>\n",
       "      <td>Blanco Brown</td>\n",
       "      <td>60</td>\n",
       "      <td>The Git Up</td>\n",
       "      <td>2</td>\n",
       "      <td>0.847</td>\n",
       "      <td>0.678</td>\n",
       "      <td>-8.635</td>\n",
       "      <td>1</td>\n",
       "      <td>9</td>\n",
       "      <td>0.1090</td>\n",
       "      <td>0.066900</td>\n",
       "      <td>0.000000</td>\n",
       "      <td>0.2740</td>\n",
       "      <td>0.811</td>\n",
       "      <td>97.984</td>\n",
       "      <td>4</td>\n",
       "      <td>200594</td>\n",
       "    </tr>\n",
       "    <tr>\n",
       "      <th>Say Hey (I Love You)</th>\n",
       "      <td>Michael Franti &amp; Spearhead</td>\n",
       "      <td>58</td>\n",
       "      <td>All Rebel Rockers</td>\n",
       "      <td>0</td>\n",
       "      <td>0.738</td>\n",
       "      <td>0.983</td>\n",
       "      <td>-4.374</td>\n",
       "      <td>0</td>\n",
       "      <td>5</td>\n",
       "      <td>0.0855</td>\n",
       "      <td>0.038000</td>\n",
       "      <td>0.000006</td>\n",
       "      <td>0.1830</td>\n",
       "      <td>0.957</td>\n",
       "      <td>92.998</td>\n",
       "      <td>4</td>\n",
       "      <td>235760</td>\n",
       "    </tr>\n",
       "    <tr>\n",
       "      <th>...</th>\n",
       "      <td>...</td>\n",
       "      <td>...</td>\n",
       "      <td>...</td>\n",
       "      <td>...</td>\n",
       "      <td>...</td>\n",
       "      <td>...</td>\n",
       "      <td>...</td>\n",
       "      <td>...</td>\n",
       "      <td>...</td>\n",
       "      <td>...</td>\n",
       "      <td>...</td>\n",
       "      <td>...</td>\n",
       "      <td>...</td>\n",
       "      <td>...</td>\n",
       "      <td>...</td>\n",
       "      <td>...</td>\n",
       "      <td>...</td>\n",
       "    </tr>\n",
       "    <tr>\n",
       "      <th>The Less I Know The Better</th>\n",
       "      <td>Tame Impala</td>\n",
       "      <td>78</td>\n",
       "      <td>Currents</td>\n",
       "      <td>84</td>\n",
       "      <td>0.640</td>\n",
       "      <td>0.740</td>\n",
       "      <td>-4.083</td>\n",
       "      <td>1</td>\n",
       "      <td>4</td>\n",
       "      <td>0.0284</td>\n",
       "      <td>0.011500</td>\n",
       "      <td>0.006780</td>\n",
       "      <td>0.1670</td>\n",
       "      <td>0.785</td>\n",
       "      <td>116.879</td>\n",
       "      <td>4</td>\n",
       "      <td>216320</td>\n",
       "    </tr>\n",
       "    <tr>\n",
       "      <th>Dandelions</th>\n",
       "      <td>Ruth B.</td>\n",
       "      <td>75</td>\n",
       "      <td>Safe Haven</td>\n",
       "      <td>90</td>\n",
       "      <td>0.609</td>\n",
       "      <td>0.692</td>\n",
       "      <td>-2.958</td>\n",
       "      <td>1</td>\n",
       "      <td>1</td>\n",
       "      <td>0.0259</td>\n",
       "      <td>0.015700</td>\n",
       "      <td>0.000000</td>\n",
       "      <td>0.0864</td>\n",
       "      <td>0.454</td>\n",
       "      <td>116.959</td>\n",
       "      <td>3</td>\n",
       "      <td>233720</td>\n",
       "    </tr>\n",
       "    <tr>\n",
       "      <th>Jimmy Cooks (feat. 21 Savage)</th>\n",
       "      <td>Drake</td>\n",
       "      <td>95</td>\n",
       "      <td>Honestly, Nevermind</td>\n",
       "      <td>92</td>\n",
       "      <td>0.529</td>\n",
       "      <td>0.673</td>\n",
       "      <td>-4.711</td>\n",
       "      <td>1</td>\n",
       "      <td>0</td>\n",
       "      <td>0.1750</td>\n",
       "      <td>0.000307</td>\n",
       "      <td>0.000002</td>\n",
       "      <td>0.0930</td>\n",
       "      <td>0.366</td>\n",
       "      <td>165.921</td>\n",
       "      <td>4</td>\n",
       "      <td>218365</td>\n",
       "    </tr>\n",
       "    <tr>\n",
       "      <th>Good Looking</th>\n",
       "      <td>Suki Waterhouse</td>\n",
       "      <td>64</td>\n",
       "      <td>Good Looking</td>\n",
       "      <td>80</td>\n",
       "      <td>0.377</td>\n",
       "      <td>0.558</td>\n",
       "      <td>-9.076</td>\n",
       "      <td>1</td>\n",
       "      <td>4</td>\n",
       "      <td>0.0299</td>\n",
       "      <td>0.078900</td>\n",
       "      <td>0.000342</td>\n",
       "      <td>0.1250</td>\n",
       "      <td>0.267</td>\n",
       "      <td>149.971</td>\n",
       "      <td>3</td>\n",
       "      <td>214800</td>\n",
       "    </tr>\n",
       "    <tr>\n",
       "      <th>INFERNO</th>\n",
       "      <td>Sub Urban</td>\n",
       "      <td>67</td>\n",
       "      <td>INFERNO</td>\n",
       "      <td>71</td>\n",
       "      <td>0.820</td>\n",
       "      <td>0.611</td>\n",
       "      <td>-5.020</td>\n",
       "      <td>0</td>\n",
       "      <td>9</td>\n",
       "      <td>0.1220</td>\n",
       "      <td>0.076600</td>\n",
       "      <td>0.000025</td>\n",
       "      <td>0.0684</td>\n",
       "      <td>0.637</td>\n",
       "      <td>127.883</td>\n",
       "      <td>4</td>\n",
       "      <td>133134</td>\n",
       "    </tr>\n",
       "  </tbody>\n",
       "</table>\n",
       "<p>968 rows × 17 columns</p>\n",
       "</div>"
      ],
      "text/plain": [
       "                                              artist_name  artist_pop  \\\n",
       "track_name                                                              \n",
       "Shake It                                    Metro Station          53   \n",
       "Chinese New Year                                    SALES          61   \n",
       "Baby I'm Yours                                   Breakbot          57   \n",
       "The Git Up                                   Blanco Brown          60   \n",
       "Say Hey (I Love You)           Michael Franti & Spearhead          58   \n",
       "...                                                   ...         ...   \n",
       "The Less I Know The Better                    Tame Impala          78   \n",
       "Dandelions                                        Ruth B.          75   \n",
       "Jimmy Cooks (feat. 21 Savage)                       Drake          95   \n",
       "Good Looking                              Suki Waterhouse          64   \n",
       "INFERNO                                         Sub Urban          67   \n",
       "\n",
       "                                             album  track_pop  danceability  \\\n",
       "track_name                                                                    \n",
       "Shake It                             Metro Station         68         0.618   \n",
       "Chinese New Year                        SALES - EP         53         0.744   \n",
       "Baby I'm Yours                        By Your Side         69         0.829   \n",
       "The Git Up                              The Git Up          2         0.847   \n",
       "Say Hey (I Love You)             All Rebel Rockers          0         0.738   \n",
       "...                                            ...        ...           ...   \n",
       "The Less I Know The Better                Currents         84         0.640   \n",
       "Dandelions                              Safe Haven         90         0.609   \n",
       "Jimmy Cooks (feat. 21 Savage)  Honestly, Nevermind         92         0.529   \n",
       "Good Looking                          Good Looking         80         0.377   \n",
       "INFERNO                                    INFERNO         71         0.820   \n",
       "\n",
       "                               energy  loudness  mode  key  speechiness  \\\n",
       "track_name                                                                \n",
       "Shake It                        0.955    -3.836     1    4       0.0798   \n",
       "Chinese New Year                0.845    -7.422     0    4       0.2530   \n",
       "Baby I'm Yours                  0.792    -3.755     0    2       0.0668   \n",
       "The Git Up                      0.678    -8.635     1    9       0.1090   \n",
       "Say Hey (I Love You)            0.983    -4.374     0    5       0.0855   \n",
       "...                               ...       ...   ...  ...          ...   \n",
       "The Less I Know The Better      0.740    -4.083     1    4       0.0284   \n",
       "Dandelions                      0.692    -2.958     1    1       0.0259   \n",
       "Jimmy Cooks (feat. 21 Savage)   0.673    -4.711     1    0       0.1750   \n",
       "Good Looking                    0.558    -9.076     1    4       0.0299   \n",
       "INFERNO                         0.611    -5.020     0    9       0.1220   \n",
       "\n",
       "                               acousticness  instrumentalness  liveness  \\\n",
       "track_name                                                                \n",
       "Shake It                           0.002210          0.000003    0.4860   \n",
       "Chinese New Year                   0.759000          0.232000    0.1000   \n",
       "Baby I'm Yours                     0.726000          0.000006    0.1220   \n",
       "The Git Up                         0.066900          0.000000    0.2740   \n",
       "Say Hey (I Love You)               0.038000          0.000006    0.1830   \n",
       "...                                     ...               ...       ...   \n",
       "The Less I Know The Better         0.011500          0.006780    0.1670   \n",
       "Dandelions                         0.015700          0.000000    0.0864   \n",
       "Jimmy Cooks (feat. 21 Savage)      0.000307          0.000002    0.0930   \n",
       "Good Looking                       0.078900          0.000342    0.1250   \n",
       "INFERNO                            0.076600          0.000025    0.0684   \n",
       "\n",
       "                               valence    tempo  time_signature  duration_ms  \n",
       "track_name                                                                    \n",
       "Shake It                         0.790  150.034               4       179947  \n",
       "Chinese New Year                 0.749   75.221               4       160000  \n",
       "Baby I'm Yours                   0.758  118.050               4       215507  \n",
       "The Git Up                       0.811   97.984               4       200594  \n",
       "Say Hey (I Love You)             0.957   92.998               4       235760  \n",
       "...                                ...      ...             ...          ...  \n",
       "The Less I Know The Better       0.785  116.879               4       216320  \n",
       "Dandelions                       0.454  116.959               3       233720  \n",
       "Jimmy Cooks (feat. 21 Savage)    0.366  165.921               4       218365  \n",
       "Good Looking                     0.267  149.971               3       214800  \n",
       "INFERNO                          0.637  127.883               4       133134  \n",
       "\n",
       "[968 rows x 17 columns]"
      ]
     },
     "execution_count": 425,
     "metadata": {},
     "output_type": "execute_result"
    }
   ],
   "source": [
    "\n",
    "tiktok"
   ]
  },
  {
   "cell_type": "code",
   "execution_count": 426,
   "id": "96d6a01c",
   "metadata": {},
   "outputs": [
    {
     "data": {
      "text/plain": [
       "Index(['artist_name', 'artist_pop', 'album', 'track_pop', 'danceability',\n",
       "       'energy', 'loudness', 'mode', 'key', 'speechiness', 'acousticness',\n",
       "       'instrumentalness', 'liveness', 'valence', 'tempo', 'time_signature',\n",
       "       'duration_ms'],\n",
       "      dtype='object')"
      ]
     },
     "execution_count": 426,
     "metadata": {},
     "output_type": "execute_result"
    }
   ],
   "source": [
    "\n",
    "\n",
    "\n",
    "tiktok.columns"
   ]
  },
  {
   "cell_type": "code",
   "execution_count": 427,
   "id": "7b2cb379",
   "metadata": {},
   "outputs": [],
   "source": [
    "\n",
    "#checking na"
   ]
  },
  {
   "cell_type": "code",
   "execution_count": 428,
   "id": "c1156e75",
   "metadata": {},
   "outputs": [
    {
     "data": {
      "text/plain": [
       "artist_name         0\n",
       "artist_pop          0\n",
       "album               0\n",
       "track_pop           0\n",
       "danceability        0\n",
       "energy              0\n",
       "loudness            0\n",
       "mode                0\n",
       "key                 0\n",
       "speechiness         0\n",
       "acousticness        0\n",
       "instrumentalness    0\n",
       "liveness            0\n",
       "valence             0\n",
       "tempo               0\n",
       "time_signature      0\n",
       "duration_ms         0\n",
       "dtype: int64"
      ]
     },
     "execution_count": 428,
     "metadata": {},
     "output_type": "execute_result"
    }
   ],
   "source": [
    "tiktok.isnull().sum() #checking nulls"
   ]
  },
  {
   "cell_type": "code",
   "execution_count": 429,
   "id": "099b8449",
   "metadata": {},
   "outputs": [
    {
     "data": {
      "text/html": [
       "<div>\n",
       "<style scoped>\n",
       "    .dataframe tbody tr th:only-of-type {\n",
       "        vertical-align: middle;\n",
       "    }\n",
       "\n",
       "    .dataframe tbody tr th {\n",
       "        vertical-align: top;\n",
       "    }\n",
       "\n",
       "    .dataframe thead th {\n",
       "        text-align: right;\n",
       "    }\n",
       "</style>\n",
       "<table border=\"1\" class=\"dataframe\">\n",
       "  <thead>\n",
       "    <tr style=\"text-align: right;\">\n",
       "      <th></th>\n",
       "      <th>energy</th>\n",
       "      <th>key</th>\n",
       "      <th>loudness</th>\n",
       "      <th>mode</th>\n",
       "      <th>speechiness</th>\n",
       "      <th>acousticness</th>\n",
       "      <th>instrumentalness</th>\n",
       "      <th>liveness</th>\n",
       "      <th>valence</th>\n",
       "      <th>tempo</th>\n",
       "      <th>duration_ms</th>\n",
       "      <th>explicit</th>\n",
       "      <th>popularity</th>\n",
       "      <th>track_name</th>\n",
       "      <th>track_artist</th>\n",
       "      <th>track_id</th>\n",
       "    </tr>\n",
       "    <tr>\n",
       "      <th>danceability</th>\n",
       "      <th></th>\n",
       "      <th></th>\n",
       "      <th></th>\n",
       "      <th></th>\n",
       "      <th></th>\n",
       "      <th></th>\n",
       "      <th></th>\n",
       "      <th></th>\n",
       "      <th></th>\n",
       "      <th></th>\n",
       "      <th></th>\n",
       "      <th></th>\n",
       "      <th></th>\n",
       "      <th></th>\n",
       "      <th></th>\n",
       "      <th></th>\n",
       "    </tr>\n",
       "  </thead>\n",
       "  <tbody>\n",
       "    <tr>\n",
       "      <th>0.722</th>\n",
       "      <td>0.476</td>\n",
       "      <td>5</td>\n",
       "      <td>-8.203</td>\n",
       "      <td>1</td>\n",
       "      <td>0.0896</td>\n",
       "      <td>0.67000</td>\n",
       "      <td>0.0000</td>\n",
       "      <td>0.0926</td>\n",
       "      <td>0.9270</td>\n",
       "      <td>151.968</td>\n",
       "      <td>220549</td>\n",
       "      <td>False</td>\n",
       "      <td>8</td>\n",
       "      <td>Este Corazón</td>\n",
       "      <td>El Javi</td>\n",
       "      <td>0Z4UqiPI5c4dMJ5iPyO61d</td>\n",
       "    </tr>\n",
       "    <tr>\n",
       "      <th>0.955</th>\n",
       "      <td>0.281</td>\n",
       "      <td>0</td>\n",
       "      <td>-11.392</td>\n",
       "      <td>0</td>\n",
       "      <td>0.4660</td>\n",
       "      <td>0.00480</td>\n",
       "      <td>0.0595</td>\n",
       "      <td>0.1220</td>\n",
       "      <td>0.0934</td>\n",
       "      <td>127.991</td>\n",
       "      <td>149543</td>\n",
       "      <td>True</td>\n",
       "      <td>0</td>\n",
       "      <td>thinking and doing</td>\n",
       "      <td>Br80</td>\n",
       "      <td>568FGhLEnSZhl82t0YmQ96</td>\n",
       "    </tr>\n",
       "    <tr>\n",
       "      <th>0.753</th>\n",
       "      <td>0.355</td>\n",
       "      <td>8</td>\n",
       "      <td>-11.799</td>\n",
       "      <td>1</td>\n",
       "      <td>0.5140</td>\n",
       "      <td>0.57300</td>\n",
       "      <td>0.0000</td>\n",
       "      <td>0.0735</td>\n",
       "      <td>0.6000</td>\n",
       "      <td>91.978</td>\n",
       "      <td>130019</td>\n",
       "      <td>True</td>\n",
       "      <td>0</td>\n",
       "      <td>Puzzlement</td>\n",
       "      <td>JpThaRuler</td>\n",
       "      <td>4Lex8QZVkptfw2PZtjoXlp</td>\n",
       "    </tr>\n",
       "    <tr>\n",
       "      <th>0.650</th>\n",
       "      <td>0.331</td>\n",
       "      <td>3</td>\n",
       "      <td>-10.818</td>\n",
       "      <td>0</td>\n",
       "      <td>0.3830</td>\n",
       "      <td>0.86500</td>\n",
       "      <td>0.0000</td>\n",
       "      <td>0.1050</td>\n",
       "      <td>0.5810</td>\n",
       "      <td>99.513</td>\n",
       "      <td>116193</td>\n",
       "      <td>True</td>\n",
       "      <td>0</td>\n",
       "      <td>Sensi</td>\n",
       "      <td>JpThaRuler</td>\n",
       "      <td>4pMqXl6EfmZrodPMYHUq9Z</td>\n",
       "    </tr>\n",
       "    <tr>\n",
       "      <th>0.690</th>\n",
       "      <td>0.360</td>\n",
       "      <td>4</td>\n",
       "      <td>-15.624</td>\n",
       "      <td>0</td>\n",
       "      <td>0.4550</td>\n",
       "      <td>0.76400</td>\n",
       "      <td>0.0000</td>\n",
       "      <td>0.1810</td>\n",
       "      <td>0.1050</td>\n",
       "      <td>89.893</td>\n",
       "      <td>111827</td>\n",
       "      <td>True</td>\n",
       "      <td>0</td>\n",
       "      <td>Rass</td>\n",
       "      <td>JpThaRuler</td>\n",
       "      <td>2pvQEKHtlkHb6ijMwcMuKV</td>\n",
       "    </tr>\n",
       "    <tr>\n",
       "      <th>...</th>\n",
       "      <td>...</td>\n",
       "      <td>...</td>\n",
       "      <td>...</td>\n",
       "      <td>...</td>\n",
       "      <td>...</td>\n",
       "      <td>...</td>\n",
       "      <td>...</td>\n",
       "      <td>...</td>\n",
       "      <td>...</td>\n",
       "      <td>...</td>\n",
       "      <td>...</td>\n",
       "      <td>...</td>\n",
       "      <td>...</td>\n",
       "      <td>...</td>\n",
       "      <td>...</td>\n",
       "      <td>...</td>\n",
       "    </tr>\n",
       "    <tr>\n",
       "      <th>0.862</th>\n",
       "      <td>0.578</td>\n",
       "      <td>10</td>\n",
       "      <td>-9.364</td>\n",
       "      <td>0</td>\n",
       "      <td>0.4430</td>\n",
       "      <td>0.01460</td>\n",
       "      <td>0.0000</td>\n",
       "      <td>0.1190</td>\n",
       "      <td>0.3850</td>\n",
       "      <td>81.059</td>\n",
       "      <td>139442</td>\n",
       "      <td>True</td>\n",
       "      <td>0</td>\n",
       "      <td>No Competition</td>\n",
       "      <td>T-Tomp</td>\n",
       "      <td>35ebaAwvPLjeTVUMQhyyqW</td>\n",
       "    </tr>\n",
       "    <tr>\n",
       "      <th>0.686</th>\n",
       "      <td>0.511</td>\n",
       "      <td>8</td>\n",
       "      <td>-10.253</td>\n",
       "      <td>0</td>\n",
       "      <td>0.4350</td>\n",
       "      <td>0.01010</td>\n",
       "      <td>0.0000</td>\n",
       "      <td>0.1100</td>\n",
       "      <td>0.4020</td>\n",
       "      <td>137.768</td>\n",
       "      <td>97440</td>\n",
       "      <td>True</td>\n",
       "      <td>0</td>\n",
       "      <td>Test Me</td>\n",
       "      <td>T-Tomp</td>\n",
       "      <td>5WYoA9mhHWSyHkaGI3qKsO</td>\n",
       "    </tr>\n",
       "    <tr>\n",
       "      <th>0.725</th>\n",
       "      <td>0.555</td>\n",
       "      <td>8</td>\n",
       "      <td>-13.018</td>\n",
       "      <td>1</td>\n",
       "      <td>0.3910</td>\n",
       "      <td>0.00189</td>\n",
       "      <td>0.0000</td>\n",
       "      <td>0.1100</td>\n",
       "      <td>0.1390</td>\n",
       "      <td>139.806</td>\n",
       "      <td>91742</td>\n",
       "      <td>True</td>\n",
       "      <td>0</td>\n",
       "      <td>Poof</td>\n",
       "      <td>T-Tomp</td>\n",
       "      <td>7aAsvABCFbZa7FsolZTASW</td>\n",
       "    </tr>\n",
       "    <tr>\n",
       "      <th>0.763</th>\n",
       "      <td>0.534</td>\n",
       "      <td>1</td>\n",
       "      <td>-8.889</td>\n",
       "      <td>1</td>\n",
       "      <td>0.3170</td>\n",
       "      <td>0.00531</td>\n",
       "      <td>0.0000</td>\n",
       "      <td>0.1110</td>\n",
       "      <td>0.3020</td>\n",
       "      <td>82.507</td>\n",
       "      <td>113868</td>\n",
       "      <td>True</td>\n",
       "      <td>0</td>\n",
       "      <td>Right Now</td>\n",
       "      <td>T-Tomp</td>\n",
       "      <td>4c49ADGqWfJkA1vB45oXVG</td>\n",
       "    </tr>\n",
       "    <tr>\n",
       "      <th>0.724</th>\n",
       "      <td>0.558</td>\n",
       "      <td>1</td>\n",
       "      <td>-10.324</td>\n",
       "      <td>1</td>\n",
       "      <td>0.5060</td>\n",
       "      <td>0.06630</td>\n",
       "      <td>0.0000</td>\n",
       "      <td>0.0833</td>\n",
       "      <td>0.5660</td>\n",
       "      <td>82.303</td>\n",
       "      <td>186240</td>\n",
       "      <td>True</td>\n",
       "      <td>0</td>\n",
       "      <td>You Dont Know</td>\n",
       "      <td>T-Tomp</td>\n",
       "      <td>4c24mhBA6tKGRILSXHunLL</td>\n",
       "    </tr>\n",
       "  </tbody>\n",
       "</table>\n",
       "<p>4073 rows × 16 columns</p>\n",
       "</div>"
      ],
      "text/plain": [
       "              energy  key  loudness  mode  speechiness  acousticness  \\\n",
       "danceability                                                           \n",
       "0.722          0.476    5    -8.203     1       0.0896       0.67000   \n",
       "0.955          0.281    0   -11.392     0       0.4660       0.00480   \n",
       "0.753          0.355    8   -11.799     1       0.5140       0.57300   \n",
       "0.650          0.331    3   -10.818     0       0.3830       0.86500   \n",
       "0.690          0.360    4   -15.624     0       0.4550       0.76400   \n",
       "...              ...  ...       ...   ...          ...           ...   \n",
       "0.862          0.578   10    -9.364     0       0.4430       0.01460   \n",
       "0.686          0.511    8   -10.253     0       0.4350       0.01010   \n",
       "0.725          0.555    8   -13.018     1       0.3910       0.00189   \n",
       "0.763          0.534    1    -8.889     1       0.3170       0.00531   \n",
       "0.724          0.558    1   -10.324     1       0.5060       0.06630   \n",
       "\n",
       "              instrumentalness  liveness  valence    tempo  duration_ms  \\\n",
       "danceability                                                              \n",
       "0.722                   0.0000    0.0926   0.9270  151.968       220549   \n",
       "0.955                   0.0595    0.1220   0.0934  127.991       149543   \n",
       "0.753                   0.0000    0.0735   0.6000   91.978       130019   \n",
       "0.650                   0.0000    0.1050   0.5810   99.513       116193   \n",
       "0.690                   0.0000    0.1810   0.1050   89.893       111827   \n",
       "...                        ...       ...      ...      ...          ...   \n",
       "0.862                   0.0000    0.1190   0.3850   81.059       139442   \n",
       "0.686                   0.0000    0.1100   0.4020  137.768        97440   \n",
       "0.725                   0.0000    0.1100   0.1390  139.806        91742   \n",
       "0.763                   0.0000    0.1110   0.3020   82.507       113868   \n",
       "0.724                   0.0000    0.0833   0.5660   82.303       186240   \n",
       "\n",
       "              explicit  popularity          track_name track_artist  \\\n",
       "danceability                                                          \n",
       "0.722            False           8        Este Corazón      El Javi   \n",
       "0.955             True           0  thinking and doing         Br80   \n",
       "0.753             True           0          Puzzlement   JpThaRuler   \n",
       "0.650             True           0               Sensi   JpThaRuler   \n",
       "0.690             True           0                Rass   JpThaRuler   \n",
       "...                ...         ...                 ...          ...   \n",
       "0.862             True           0      No Competition       T-Tomp   \n",
       "0.686             True           0             Test Me       T-Tomp   \n",
       "0.725             True           0                Poof       T-Tomp   \n",
       "0.763             True           0           Right Now       T-Tomp   \n",
       "0.724             True           0       You Dont Know       T-Tomp   \n",
       "\n",
       "                            track_id  \n",
       "danceability                          \n",
       "0.722         0Z4UqiPI5c4dMJ5iPyO61d  \n",
       "0.955         568FGhLEnSZhl82t0YmQ96  \n",
       "0.753         4Lex8QZVkptfw2PZtjoXlp  \n",
       "0.650         4pMqXl6EfmZrodPMYHUq9Z  \n",
       "0.690         2pvQEKHtlkHb6ijMwcMuKV  \n",
       "...                              ...  \n",
       "0.862         35ebaAwvPLjeTVUMQhyyqW  \n",
       "0.686         5WYoA9mhHWSyHkaGI3qKsO  \n",
       "0.725         7aAsvABCFbZa7FsolZTASW  \n",
       "0.763         4c49ADGqWfJkA1vB45oXVG  \n",
       "0.724         4c24mhBA6tKGRILSXHunLL  \n",
       "\n",
       "[4073 rows x 16 columns]"
      ]
     },
     "execution_count": 429,
     "metadata": {},
     "output_type": "execute_result"
    }
   ],
   "source": [
    "unpopular"
   ]
  },
  {
   "cell_type": "code",
   "execution_count": 430,
   "id": "4de3b581",
   "metadata": {},
   "outputs": [
    {
     "data": {
      "text/html": [
       "<div>\n",
       "<style scoped>\n",
       "    .dataframe tbody tr th:only-of-type {\n",
       "        vertical-align: middle;\n",
       "    }\n",
       "\n",
       "    .dataframe tbody tr th {\n",
       "        vertical-align: top;\n",
       "    }\n",
       "\n",
       "    .dataframe thead th {\n",
       "        text-align: right;\n",
       "    }\n",
       "</style>\n",
       "<table border=\"1\" class=\"dataframe\">\n",
       "  <thead>\n",
       "    <tr style=\"text-align: right;\">\n",
       "      <th></th>\n",
       "      <th>track_name</th>\n",
       "      <th>artist_name</th>\n",
       "      <th>energy</th>\n",
       "      <th>key</th>\n",
       "      <th>speechiness</th>\n",
       "      <th>acousticness</th>\n",
       "      <th>instrumentalness</th>\n",
       "      <th>liveness</th>\n",
       "    </tr>\n",
       "  </thead>\n",
       "  <tbody>\n",
       "    <tr>\n",
       "      <th>0</th>\n",
       "      <td>Shake It</td>\n",
       "      <td>Metro Station</td>\n",
       "      <td>0.955</td>\n",
       "      <td>4</td>\n",
       "      <td>0.0798</td>\n",
       "      <td>0.002210</td>\n",
       "      <td>0.000003</td>\n",
       "      <td>0.4860</td>\n",
       "    </tr>\n",
       "    <tr>\n",
       "      <th>1</th>\n",
       "      <td>Chinese New Year</td>\n",
       "      <td>SALES</td>\n",
       "      <td>0.845</td>\n",
       "      <td>4</td>\n",
       "      <td>0.2530</td>\n",
       "      <td>0.759000</td>\n",
       "      <td>0.232000</td>\n",
       "      <td>0.1000</td>\n",
       "    </tr>\n",
       "    <tr>\n",
       "      <th>2</th>\n",
       "      <td>Baby I'm Yours</td>\n",
       "      <td>Breakbot</td>\n",
       "      <td>0.792</td>\n",
       "      <td>2</td>\n",
       "      <td>0.0668</td>\n",
       "      <td>0.726000</td>\n",
       "      <td>0.000006</td>\n",
       "      <td>0.1220</td>\n",
       "    </tr>\n",
       "    <tr>\n",
       "      <th>3</th>\n",
       "      <td>The Git Up</td>\n",
       "      <td>Blanco Brown</td>\n",
       "      <td>0.678</td>\n",
       "      <td>9</td>\n",
       "      <td>0.1090</td>\n",
       "      <td>0.066900</td>\n",
       "      <td>0.000000</td>\n",
       "      <td>0.2740</td>\n",
       "    </tr>\n",
       "    <tr>\n",
       "      <th>4</th>\n",
       "      <td>Say Hey (I Love You)</td>\n",
       "      <td>Michael Franti &amp; Spearhead</td>\n",
       "      <td>0.983</td>\n",
       "      <td>5</td>\n",
       "      <td>0.0855</td>\n",
       "      <td>0.038000</td>\n",
       "      <td>0.000006</td>\n",
       "      <td>0.1830</td>\n",
       "    </tr>\n",
       "    <tr>\n",
       "      <th>...</th>\n",
       "      <td>...</td>\n",
       "      <td>...</td>\n",
       "      <td>...</td>\n",
       "      <td>...</td>\n",
       "      <td>...</td>\n",
       "      <td>...</td>\n",
       "      <td>...</td>\n",
       "      <td>...</td>\n",
       "    </tr>\n",
       "    <tr>\n",
       "      <th>963</th>\n",
       "      <td>The Less I Know The Better</td>\n",
       "      <td>Tame Impala</td>\n",
       "      <td>0.740</td>\n",
       "      <td>4</td>\n",
       "      <td>0.0284</td>\n",
       "      <td>0.011500</td>\n",
       "      <td>0.006780</td>\n",
       "      <td>0.1670</td>\n",
       "    </tr>\n",
       "    <tr>\n",
       "      <th>964</th>\n",
       "      <td>Dandelions</td>\n",
       "      <td>Ruth B.</td>\n",
       "      <td>0.692</td>\n",
       "      <td>1</td>\n",
       "      <td>0.0259</td>\n",
       "      <td>0.015700</td>\n",
       "      <td>0.000000</td>\n",
       "      <td>0.0864</td>\n",
       "    </tr>\n",
       "    <tr>\n",
       "      <th>965</th>\n",
       "      <td>Jimmy Cooks (feat. 21 Savage)</td>\n",
       "      <td>Drake</td>\n",
       "      <td>0.673</td>\n",
       "      <td>0</td>\n",
       "      <td>0.1750</td>\n",
       "      <td>0.000307</td>\n",
       "      <td>0.000002</td>\n",
       "      <td>0.0930</td>\n",
       "    </tr>\n",
       "    <tr>\n",
       "      <th>966</th>\n",
       "      <td>Good Looking</td>\n",
       "      <td>Suki Waterhouse</td>\n",
       "      <td>0.558</td>\n",
       "      <td>4</td>\n",
       "      <td>0.0299</td>\n",
       "      <td>0.078900</td>\n",
       "      <td>0.000342</td>\n",
       "      <td>0.1250</td>\n",
       "    </tr>\n",
       "    <tr>\n",
       "      <th>967</th>\n",
       "      <td>INFERNO</td>\n",
       "      <td>Sub Urban</td>\n",
       "      <td>0.611</td>\n",
       "      <td>9</td>\n",
       "      <td>0.1220</td>\n",
       "      <td>0.076600</td>\n",
       "      <td>0.000025</td>\n",
       "      <td>0.0684</td>\n",
       "    </tr>\n",
       "  </tbody>\n",
       "</table>\n",
       "<p>968 rows × 8 columns</p>\n",
       "</div>"
      ],
      "text/plain": [
       "                        track_name                 artist_name  energy  key  \\\n",
       "0                         Shake It               Metro Station   0.955    4   \n",
       "1                 Chinese New Year                       SALES   0.845    4   \n",
       "2                   Baby I'm Yours                    Breakbot   0.792    2   \n",
       "3                       The Git Up                Blanco Brown   0.678    9   \n",
       "4             Say Hey (I Love You)  Michael Franti & Spearhead   0.983    5   \n",
       "..                             ...                         ...     ...  ...   \n",
       "963     The Less I Know The Better                 Tame Impala   0.740    4   \n",
       "964                     Dandelions                     Ruth B.   0.692    1   \n",
       "965  Jimmy Cooks (feat. 21 Savage)                       Drake   0.673    0   \n",
       "966                   Good Looking             Suki Waterhouse   0.558    4   \n",
       "967                        INFERNO                   Sub Urban   0.611    9   \n",
       "\n",
       "     speechiness  acousticness  instrumentalness  liveness  \n",
       "0         0.0798      0.002210          0.000003    0.4860  \n",
       "1         0.2530      0.759000          0.232000    0.1000  \n",
       "2         0.0668      0.726000          0.000006    0.1220  \n",
       "3         0.1090      0.066900          0.000000    0.2740  \n",
       "4         0.0855      0.038000          0.000006    0.1830  \n",
       "..           ...           ...               ...       ...  \n",
       "963       0.0284      0.011500          0.006780    0.1670  \n",
       "964       0.0259      0.015700          0.000000    0.0864  \n",
       "965       0.1750      0.000307          0.000002    0.0930  \n",
       "966       0.0299      0.078900          0.000342    0.1250  \n",
       "967       0.1220      0.076600          0.000025    0.0684  \n",
       "\n",
       "[968 rows x 8 columns]"
      ]
     },
     "execution_count": 430,
     "metadata": {},
     "output_type": "execute_result"
    }
   ],
   "source": [
    "tableau = tiktok[['artist_name','energy','key','speechiness','acousticness','instrumentalness','liveness']].reset_index()\n",
    "tableau"
   ]
  },
  {
   "cell_type": "code",
   "execution_count": 431,
   "id": "1fa64f09",
   "metadata": {},
   "outputs": [
    {
     "data": {
      "text/html": [
       "<div>\n",
       "<style scoped>\n",
       "    .dataframe tbody tr th:only-of-type {\n",
       "        vertical-align: middle;\n",
       "    }\n",
       "\n",
       "    .dataframe tbody tr th {\n",
       "        vertical-align: top;\n",
       "    }\n",
       "\n",
       "    .dataframe thead th {\n",
       "        text-align: right;\n",
       "    }\n",
       "</style>\n",
       "<table border=\"1\" class=\"dataframe\">\n",
       "  <thead>\n",
       "    <tr style=\"text-align: right;\">\n",
       "      <th></th>\n",
       "      <th>energy</th>\n",
       "      <th>key</th>\n",
       "      <th>loudness</th>\n",
       "      <th>mode</th>\n",
       "      <th>speechiness</th>\n",
       "      <th>acousticness</th>\n",
       "      <th>instrumentalness</th>\n",
       "      <th>liveness</th>\n",
       "      <th>valence</th>\n",
       "      <th>tempo</th>\n",
       "      <th>duration_ms</th>\n",
       "      <th>explicit</th>\n",
       "      <th>popularity</th>\n",
       "      <th>track_name</th>\n",
       "      <th>track_artist</th>\n",
       "      <th>track_id</th>\n",
       "    </tr>\n",
       "    <tr>\n",
       "      <th>danceability</th>\n",
       "      <th></th>\n",
       "      <th></th>\n",
       "      <th></th>\n",
       "      <th></th>\n",
       "      <th></th>\n",
       "      <th></th>\n",
       "      <th></th>\n",
       "      <th></th>\n",
       "      <th></th>\n",
       "      <th></th>\n",
       "      <th></th>\n",
       "      <th></th>\n",
       "      <th></th>\n",
       "      <th></th>\n",
       "      <th></th>\n",
       "      <th></th>\n",
       "    </tr>\n",
       "  </thead>\n",
       "  <tbody>\n",
       "    <tr>\n",
       "      <th>0.722</th>\n",
       "      <td>0.476</td>\n",
       "      <td>5</td>\n",
       "      <td>-8.203</td>\n",
       "      <td>1</td>\n",
       "      <td>0.0896</td>\n",
       "      <td>0.67000</td>\n",
       "      <td>0.0000</td>\n",
       "      <td>0.0926</td>\n",
       "      <td>0.9270</td>\n",
       "      <td>151.968</td>\n",
       "      <td>220549</td>\n",
       "      <td>False</td>\n",
       "      <td>8</td>\n",
       "      <td>Este Corazón</td>\n",
       "      <td>El Javi</td>\n",
       "      <td>0Z4UqiPI5c4dMJ5iPyO61d</td>\n",
       "    </tr>\n",
       "    <tr>\n",
       "      <th>0.955</th>\n",
       "      <td>0.281</td>\n",
       "      <td>0</td>\n",
       "      <td>-11.392</td>\n",
       "      <td>0</td>\n",
       "      <td>0.4660</td>\n",
       "      <td>0.00480</td>\n",
       "      <td>0.0595</td>\n",
       "      <td>0.1220</td>\n",
       "      <td>0.0934</td>\n",
       "      <td>127.991</td>\n",
       "      <td>149543</td>\n",
       "      <td>True</td>\n",
       "      <td>0</td>\n",
       "      <td>thinking and doing</td>\n",
       "      <td>Br80</td>\n",
       "      <td>568FGhLEnSZhl82t0YmQ96</td>\n",
       "    </tr>\n",
       "    <tr>\n",
       "      <th>0.753</th>\n",
       "      <td>0.355</td>\n",
       "      <td>8</td>\n",
       "      <td>-11.799</td>\n",
       "      <td>1</td>\n",
       "      <td>0.5140</td>\n",
       "      <td>0.57300</td>\n",
       "      <td>0.0000</td>\n",
       "      <td>0.0735</td>\n",
       "      <td>0.6000</td>\n",
       "      <td>91.978</td>\n",
       "      <td>130019</td>\n",
       "      <td>True</td>\n",
       "      <td>0</td>\n",
       "      <td>Puzzlement</td>\n",
       "      <td>JpThaRuler</td>\n",
       "      <td>4Lex8QZVkptfw2PZtjoXlp</td>\n",
       "    </tr>\n",
       "    <tr>\n",
       "      <th>0.650</th>\n",
       "      <td>0.331</td>\n",
       "      <td>3</td>\n",
       "      <td>-10.818</td>\n",
       "      <td>0</td>\n",
       "      <td>0.3830</td>\n",
       "      <td>0.86500</td>\n",
       "      <td>0.0000</td>\n",
       "      <td>0.1050</td>\n",
       "      <td>0.5810</td>\n",
       "      <td>99.513</td>\n",
       "      <td>116193</td>\n",
       "      <td>True</td>\n",
       "      <td>0</td>\n",
       "      <td>Sensi</td>\n",
       "      <td>JpThaRuler</td>\n",
       "      <td>4pMqXl6EfmZrodPMYHUq9Z</td>\n",
       "    </tr>\n",
       "    <tr>\n",
       "      <th>0.690</th>\n",
       "      <td>0.360</td>\n",
       "      <td>4</td>\n",
       "      <td>-15.624</td>\n",
       "      <td>0</td>\n",
       "      <td>0.4550</td>\n",
       "      <td>0.76400</td>\n",
       "      <td>0.0000</td>\n",
       "      <td>0.1810</td>\n",
       "      <td>0.1050</td>\n",
       "      <td>89.893</td>\n",
       "      <td>111827</td>\n",
       "      <td>True</td>\n",
       "      <td>0</td>\n",
       "      <td>Rass</td>\n",
       "      <td>JpThaRuler</td>\n",
       "      <td>2pvQEKHtlkHb6ijMwcMuKV</td>\n",
       "    </tr>\n",
       "    <tr>\n",
       "      <th>...</th>\n",
       "      <td>...</td>\n",
       "      <td>...</td>\n",
       "      <td>...</td>\n",
       "      <td>...</td>\n",
       "      <td>...</td>\n",
       "      <td>...</td>\n",
       "      <td>...</td>\n",
       "      <td>...</td>\n",
       "      <td>...</td>\n",
       "      <td>...</td>\n",
       "      <td>...</td>\n",
       "      <td>...</td>\n",
       "      <td>...</td>\n",
       "      <td>...</td>\n",
       "      <td>...</td>\n",
       "      <td>...</td>\n",
       "    </tr>\n",
       "    <tr>\n",
       "      <th>0.862</th>\n",
       "      <td>0.578</td>\n",
       "      <td>10</td>\n",
       "      <td>-9.364</td>\n",
       "      <td>0</td>\n",
       "      <td>0.4430</td>\n",
       "      <td>0.01460</td>\n",
       "      <td>0.0000</td>\n",
       "      <td>0.1190</td>\n",
       "      <td>0.3850</td>\n",
       "      <td>81.059</td>\n",
       "      <td>139442</td>\n",
       "      <td>True</td>\n",
       "      <td>0</td>\n",
       "      <td>No Competition</td>\n",
       "      <td>T-Tomp</td>\n",
       "      <td>35ebaAwvPLjeTVUMQhyyqW</td>\n",
       "    </tr>\n",
       "    <tr>\n",
       "      <th>0.686</th>\n",
       "      <td>0.511</td>\n",
       "      <td>8</td>\n",
       "      <td>-10.253</td>\n",
       "      <td>0</td>\n",
       "      <td>0.4350</td>\n",
       "      <td>0.01010</td>\n",
       "      <td>0.0000</td>\n",
       "      <td>0.1100</td>\n",
       "      <td>0.4020</td>\n",
       "      <td>137.768</td>\n",
       "      <td>97440</td>\n",
       "      <td>True</td>\n",
       "      <td>0</td>\n",
       "      <td>Test Me</td>\n",
       "      <td>T-Tomp</td>\n",
       "      <td>5WYoA9mhHWSyHkaGI3qKsO</td>\n",
       "    </tr>\n",
       "    <tr>\n",
       "      <th>0.725</th>\n",
       "      <td>0.555</td>\n",
       "      <td>8</td>\n",
       "      <td>-13.018</td>\n",
       "      <td>1</td>\n",
       "      <td>0.3910</td>\n",
       "      <td>0.00189</td>\n",
       "      <td>0.0000</td>\n",
       "      <td>0.1100</td>\n",
       "      <td>0.1390</td>\n",
       "      <td>139.806</td>\n",
       "      <td>91742</td>\n",
       "      <td>True</td>\n",
       "      <td>0</td>\n",
       "      <td>Poof</td>\n",
       "      <td>T-Tomp</td>\n",
       "      <td>7aAsvABCFbZa7FsolZTASW</td>\n",
       "    </tr>\n",
       "    <tr>\n",
       "      <th>0.763</th>\n",
       "      <td>0.534</td>\n",
       "      <td>1</td>\n",
       "      <td>-8.889</td>\n",
       "      <td>1</td>\n",
       "      <td>0.3170</td>\n",
       "      <td>0.00531</td>\n",
       "      <td>0.0000</td>\n",
       "      <td>0.1110</td>\n",
       "      <td>0.3020</td>\n",
       "      <td>82.507</td>\n",
       "      <td>113868</td>\n",
       "      <td>True</td>\n",
       "      <td>0</td>\n",
       "      <td>Right Now</td>\n",
       "      <td>T-Tomp</td>\n",
       "      <td>4c49ADGqWfJkA1vB45oXVG</td>\n",
       "    </tr>\n",
       "    <tr>\n",
       "      <th>0.724</th>\n",
       "      <td>0.558</td>\n",
       "      <td>1</td>\n",
       "      <td>-10.324</td>\n",
       "      <td>1</td>\n",
       "      <td>0.5060</td>\n",
       "      <td>0.06630</td>\n",
       "      <td>0.0000</td>\n",
       "      <td>0.0833</td>\n",
       "      <td>0.5660</td>\n",
       "      <td>82.303</td>\n",
       "      <td>186240</td>\n",
       "      <td>True</td>\n",
       "      <td>0</td>\n",
       "      <td>You Dont Know</td>\n",
       "      <td>T-Tomp</td>\n",
       "      <td>4c24mhBA6tKGRILSXHunLL</td>\n",
       "    </tr>\n",
       "  </tbody>\n",
       "</table>\n",
       "<p>4073 rows × 16 columns</p>\n",
       "</div>"
      ],
      "text/plain": [
       "              energy  key  loudness  mode  speechiness  acousticness  \\\n",
       "danceability                                                           \n",
       "0.722          0.476    5    -8.203     1       0.0896       0.67000   \n",
       "0.955          0.281    0   -11.392     0       0.4660       0.00480   \n",
       "0.753          0.355    8   -11.799     1       0.5140       0.57300   \n",
       "0.650          0.331    3   -10.818     0       0.3830       0.86500   \n",
       "0.690          0.360    4   -15.624     0       0.4550       0.76400   \n",
       "...              ...  ...       ...   ...          ...           ...   \n",
       "0.862          0.578   10    -9.364     0       0.4430       0.01460   \n",
       "0.686          0.511    8   -10.253     0       0.4350       0.01010   \n",
       "0.725          0.555    8   -13.018     1       0.3910       0.00189   \n",
       "0.763          0.534    1    -8.889     1       0.3170       0.00531   \n",
       "0.724          0.558    1   -10.324     1       0.5060       0.06630   \n",
       "\n",
       "              instrumentalness  liveness  valence    tempo  duration_ms  \\\n",
       "danceability                                                              \n",
       "0.722                   0.0000    0.0926   0.9270  151.968       220549   \n",
       "0.955                   0.0595    0.1220   0.0934  127.991       149543   \n",
       "0.753                   0.0000    0.0735   0.6000   91.978       130019   \n",
       "0.650                   0.0000    0.1050   0.5810   99.513       116193   \n",
       "0.690                   0.0000    0.1810   0.1050   89.893       111827   \n",
       "...                        ...       ...      ...      ...          ...   \n",
       "0.862                   0.0000    0.1190   0.3850   81.059       139442   \n",
       "0.686                   0.0000    0.1100   0.4020  137.768        97440   \n",
       "0.725                   0.0000    0.1100   0.1390  139.806        91742   \n",
       "0.763                   0.0000    0.1110   0.3020   82.507       113868   \n",
       "0.724                   0.0000    0.0833   0.5660   82.303       186240   \n",
       "\n",
       "              explicit  popularity          track_name track_artist  \\\n",
       "danceability                                                          \n",
       "0.722            False           8        Este Corazón      El Javi   \n",
       "0.955             True           0  thinking and doing         Br80   \n",
       "0.753             True           0          Puzzlement   JpThaRuler   \n",
       "0.650             True           0               Sensi   JpThaRuler   \n",
       "0.690             True           0                Rass   JpThaRuler   \n",
       "...                ...         ...                 ...          ...   \n",
       "0.862             True           0      No Competition       T-Tomp   \n",
       "0.686             True           0             Test Me       T-Tomp   \n",
       "0.725             True           0                Poof       T-Tomp   \n",
       "0.763             True           0           Right Now       T-Tomp   \n",
       "0.724             True           0       You Dont Know       T-Tomp   \n",
       "\n",
       "                            track_id  \n",
       "danceability                          \n",
       "0.722         0Z4UqiPI5c4dMJ5iPyO61d  \n",
       "0.955         568FGhLEnSZhl82t0YmQ96  \n",
       "0.753         4Lex8QZVkptfw2PZtjoXlp  \n",
       "0.650         4pMqXl6EfmZrodPMYHUq9Z  \n",
       "0.690         2pvQEKHtlkHb6ijMwcMuKV  \n",
       "...                              ...  \n",
       "0.862         35ebaAwvPLjeTVUMQhyyqW  \n",
       "0.686         5WYoA9mhHWSyHkaGI3qKsO  \n",
       "0.725         7aAsvABCFbZa7FsolZTASW  \n",
       "0.763         4c49ADGqWfJkA1vB45oXVG  \n",
       "0.724         4c24mhBA6tKGRILSXHunLL  \n",
       "\n",
       "[4073 rows x 16 columns]"
      ]
     },
     "execution_count": 431,
     "metadata": {},
     "output_type": "execute_result"
    }
   ],
   "source": [
    "unpopular"
   ]
  },
  {
   "cell_type": "code",
   "execution_count": 432,
   "id": "9725466b",
   "metadata": {},
   "outputs": [],
   "source": [
    "tableau.to_csv('tableau_final_df.csv')"
   ]
  },
  {
   "cell_type": "code",
   "execution_count": 433,
   "id": "aee95bf0",
   "metadata": {},
   "outputs": [
    {
     "data": {
      "text/plain": [
       "63.24576479253622"
      ]
     },
     "execution_count": 433,
     "metadata": {},
     "output_type": "execute_result"
    }
   ],
   "source": [
    "(unpopular['popularity'] ==0 ).sum()/len(unpopular['popularity'])*100 #to check how many popular songs exists"
   ]
  },
  {
   "cell_type": "code",
   "execution_count": 434,
   "id": "07ffb6bb",
   "metadata": {},
   "outputs": [
    {
     "data": {
      "text/plain": [
       "0    2576\n",
       "1     836\n",
       "2     240\n",
       "8     123\n",
       "7      99\n",
       "3      93\n",
       "4      56\n",
       "5      30\n",
       "6      16\n",
       "9       4\n",
       "Name: popularity, dtype: int64"
      ]
     },
     "execution_count": 434,
     "metadata": {},
     "output_type": "execute_result"
    }
   ],
   "source": [
    "unpopular['popularity'].value_counts()"
   ]
  },
  {
   "cell_type": "code",
   "execution_count": 435,
   "id": "320d83ca",
   "metadata": {},
   "outputs": [],
   "source": [
    "unpopular = unpopular.loc[unpopular[\"popularity\"] == 0] #adding only songs with popularity 0"
   ]
  },
  {
   "cell_type": "code",
   "execution_count": 436,
   "id": "d0a87fca",
   "metadata": {},
   "outputs": [
    {
     "data": {
      "text/plain": [
       "0    2576\n",
       "Name: popularity, dtype: int64"
      ]
     },
     "execution_count": 436,
     "metadata": {},
     "output_type": "execute_result"
    }
   ],
   "source": [
    "unpopular['popularity'].value_counts()"
   ]
  },
  {
   "cell_type": "code",
   "execution_count": 437,
   "id": "7f1070f1",
   "metadata": {},
   "outputs": [
    {
     "data": {
      "text/plain": [
       "Index(['artist_name', 'artist_pop', 'album', 'track_pop', 'danceability',\n",
       "       'energy', 'loudness', 'mode', 'key', 'speechiness', 'acousticness',\n",
       "       'instrumentalness', 'liveness', 'valence', 'tempo', 'time_signature',\n",
       "       'duration_ms'],\n",
       "      dtype='object')"
      ]
     },
     "execution_count": 437,
     "metadata": {},
     "output_type": "execute_result"
    }
   ],
   "source": [
    "tiktok.columns"
   ]
  },
  {
   "cell_type": "code",
   "execution_count": 438,
   "id": "6b211f03",
   "metadata": {},
   "outputs": [
    {
     "data": {
      "text/plain": [
       "energy              0\n",
       "key                 0\n",
       "loudness            0\n",
       "mode                0\n",
       "speechiness         0\n",
       "acousticness        0\n",
       "instrumentalness    0\n",
       "liveness            0\n",
       "valence             0\n",
       "tempo               0\n",
       "duration_ms         0\n",
       "explicit            0\n",
       "popularity          0\n",
       "track_name          0\n",
       "track_artist        0\n",
       "track_id            0\n",
       "dtype: int64"
      ]
     },
     "execution_count": 438,
     "metadata": {},
     "output_type": "execute_result"
    }
   ],
   "source": [
    "unpopular.isna().sum() #rechecking na"
   ]
  },
  {
   "cell_type": "code",
   "execution_count": 439,
   "id": "9c77015d",
   "metadata": {},
   "outputs": [
    {
     "data": {
      "text/plain": [
       "energy              0\n",
       "key                 0\n",
       "loudness            0\n",
       "mode                0\n",
       "speechiness         0\n",
       "acousticness        0\n",
       "instrumentalness    0\n",
       "liveness            0\n",
       "valence             0\n",
       "tempo               0\n",
       "duration_ms         0\n",
       "explicit            0\n",
       "popularity          0\n",
       "track_name          0\n",
       "track_artist        0\n",
       "track_id            0\n",
       "dtype: int64"
      ]
     },
     "execution_count": 439,
     "metadata": {},
     "output_type": "execute_result"
    }
   ],
   "source": [
    "unpopular.isnull().sum()#rechecking null"
   ]
  },
  {
   "cell_type": "code",
   "execution_count": 440,
   "id": "b6308e9c",
   "metadata": {},
   "outputs": [
    {
     "data": {
      "text/plain": [
       "artist_name          object\n",
       "artist_pop            int64\n",
       "album                object\n",
       "track_pop             int64\n",
       "danceability        float64\n",
       "energy              float64\n",
       "loudness            float64\n",
       "mode                  int64\n",
       "key                   int64\n",
       "speechiness         float64\n",
       "acousticness        float64\n",
       "instrumentalness    float64\n",
       "liveness            float64\n",
       "valence             float64\n",
       "tempo               float64\n",
       "time_signature        int64\n",
       "duration_ms           int64\n",
       "dtype: object"
      ]
     },
     "execution_count": 440,
     "metadata": {},
     "output_type": "execute_result"
    }
   ],
   "source": [
    "tiktok.dtypes"
   ]
  },
  {
   "cell_type": "code",
   "execution_count": 441,
   "id": "79a1a7e3",
   "metadata": {},
   "outputs": [
    {
     "data": {
      "text/plain": [
       "energy              float64\n",
       "key                   int64\n",
       "loudness            float64\n",
       "mode                  int64\n",
       "speechiness         float64\n",
       "acousticness        float64\n",
       "instrumentalness    float64\n",
       "liveness            float64\n",
       "valence             float64\n",
       "tempo               float64\n",
       "duration_ms           int64\n",
       "explicit               bool\n",
       "popularity            int64\n",
       "track_name           object\n",
       "track_artist         object\n",
       "track_id             object\n",
       "dtype: object"
      ]
     },
     "execution_count": 441,
     "metadata": {},
     "output_type": "execute_result"
    }
   ],
   "source": [
    "unpopular.dtypes"
   ]
  },
  {
   "cell_type": "code",
   "execution_count": 442,
   "id": "4440213f",
   "metadata": {},
   "outputs": [],
   "source": [
    "tiktok = tiktok.drop(['artist_name', 'artist_pop', 'album', 'track_pop',\n",
    "       'loudness', 'mode', 'valence', 'tempo', 'time_signature',\n",
    "       'duration_ms'], axis = 1)"
   ]
  },
  {
   "cell_type": "code",
   "execution_count": 443,
   "id": "33594091",
   "metadata": {},
   "outputs": [
    {
     "data": {
      "text/plain": [
       "Index(['danceability', 'energy', 'key', 'speechiness', 'acousticness',\n",
       "       'instrumentalness', 'liveness'],\n",
       "      dtype='object')"
      ]
     },
     "execution_count": 443,
     "metadata": {},
     "output_type": "execute_result"
    }
   ],
   "source": [
    "tiktok.columns"
   ]
  },
  {
   "cell_type": "code",
   "execution_count": 444,
   "id": "d1e1ac12",
   "metadata": {},
   "outputs": [
    {
     "data": {
      "text/plain": [
       "Index(['energy', 'key', 'loudness', 'mode', 'speechiness', 'acousticness',\n",
       "       'instrumentalness', 'liveness', 'valence', 'tempo', 'duration_ms',\n",
       "       'explicit', 'popularity', 'track_name', 'track_artist', 'track_id'],\n",
       "      dtype='object')"
      ]
     },
     "execution_count": 444,
     "metadata": {},
     "output_type": "execute_result"
    }
   ],
   "source": [
    "unpopular.columns"
   ]
  },
  {
   "cell_type": "code",
   "execution_count": 445,
   "id": "51f07a4a",
   "metadata": {},
   "outputs": [],
   "source": [
    "unpopular = unpopular.drop(['explicit','track_name', 'track_artist', 'track_id','duration_ms', 'tempo', 'loudness', 'mode'],axis = 1)"
   ]
  },
  {
   "cell_type": "code",
   "execution_count": 446,
   "id": "35500afc",
   "metadata": {},
   "outputs": [
    {
     "data": {
      "text/html": [
       "<div>\n",
       "<style scoped>\n",
       "    .dataframe tbody tr th:only-of-type {\n",
       "        vertical-align: middle;\n",
       "    }\n",
       "\n",
       "    .dataframe tbody tr th {\n",
       "        vertical-align: top;\n",
       "    }\n",
       "\n",
       "    .dataframe thead th {\n",
       "        text-align: right;\n",
       "    }\n",
       "</style>\n",
       "<table border=\"1\" class=\"dataframe\">\n",
       "  <thead>\n",
       "    <tr style=\"text-align: right;\">\n",
       "      <th></th>\n",
       "      <th>track_name</th>\n",
       "      <th>danceability</th>\n",
       "      <th>energy</th>\n",
       "      <th>key</th>\n",
       "      <th>speechiness</th>\n",
       "      <th>acousticness</th>\n",
       "      <th>instrumentalness</th>\n",
       "      <th>liveness</th>\n",
       "    </tr>\n",
       "  </thead>\n",
       "  <tbody>\n",
       "    <tr>\n",
       "      <th>0</th>\n",
       "      <td>Shake It</td>\n",
       "      <td>0.618</td>\n",
       "      <td>0.955</td>\n",
       "      <td>4</td>\n",
       "      <td>0.0798</td>\n",
       "      <td>0.002210</td>\n",
       "      <td>0.000003</td>\n",
       "      <td>0.4860</td>\n",
       "    </tr>\n",
       "    <tr>\n",
       "      <th>1</th>\n",
       "      <td>Chinese New Year</td>\n",
       "      <td>0.744</td>\n",
       "      <td>0.845</td>\n",
       "      <td>4</td>\n",
       "      <td>0.2530</td>\n",
       "      <td>0.759000</td>\n",
       "      <td>0.232000</td>\n",
       "      <td>0.1000</td>\n",
       "    </tr>\n",
       "    <tr>\n",
       "      <th>2</th>\n",
       "      <td>Baby I'm Yours</td>\n",
       "      <td>0.829</td>\n",
       "      <td>0.792</td>\n",
       "      <td>2</td>\n",
       "      <td>0.0668</td>\n",
       "      <td>0.726000</td>\n",
       "      <td>0.000006</td>\n",
       "      <td>0.1220</td>\n",
       "    </tr>\n",
       "    <tr>\n",
       "      <th>3</th>\n",
       "      <td>The Git Up</td>\n",
       "      <td>0.847</td>\n",
       "      <td>0.678</td>\n",
       "      <td>9</td>\n",
       "      <td>0.1090</td>\n",
       "      <td>0.066900</td>\n",
       "      <td>0.000000</td>\n",
       "      <td>0.2740</td>\n",
       "    </tr>\n",
       "    <tr>\n",
       "      <th>4</th>\n",
       "      <td>Say Hey (I Love You)</td>\n",
       "      <td>0.738</td>\n",
       "      <td>0.983</td>\n",
       "      <td>5</td>\n",
       "      <td>0.0855</td>\n",
       "      <td>0.038000</td>\n",
       "      <td>0.000006</td>\n",
       "      <td>0.1830</td>\n",
       "    </tr>\n",
       "    <tr>\n",
       "      <th>...</th>\n",
       "      <td>...</td>\n",
       "      <td>...</td>\n",
       "      <td>...</td>\n",
       "      <td>...</td>\n",
       "      <td>...</td>\n",
       "      <td>...</td>\n",
       "      <td>...</td>\n",
       "      <td>...</td>\n",
       "    </tr>\n",
       "    <tr>\n",
       "      <th>963</th>\n",
       "      <td>The Less I Know The Better</td>\n",
       "      <td>0.640</td>\n",
       "      <td>0.740</td>\n",
       "      <td>4</td>\n",
       "      <td>0.0284</td>\n",
       "      <td>0.011500</td>\n",
       "      <td>0.006780</td>\n",
       "      <td>0.1670</td>\n",
       "    </tr>\n",
       "    <tr>\n",
       "      <th>964</th>\n",
       "      <td>Dandelions</td>\n",
       "      <td>0.609</td>\n",
       "      <td>0.692</td>\n",
       "      <td>1</td>\n",
       "      <td>0.0259</td>\n",
       "      <td>0.015700</td>\n",
       "      <td>0.000000</td>\n",
       "      <td>0.0864</td>\n",
       "    </tr>\n",
       "    <tr>\n",
       "      <th>965</th>\n",
       "      <td>Jimmy Cooks (feat. 21 Savage)</td>\n",
       "      <td>0.529</td>\n",
       "      <td>0.673</td>\n",
       "      <td>0</td>\n",
       "      <td>0.1750</td>\n",
       "      <td>0.000307</td>\n",
       "      <td>0.000002</td>\n",
       "      <td>0.0930</td>\n",
       "    </tr>\n",
       "    <tr>\n",
       "      <th>966</th>\n",
       "      <td>Good Looking</td>\n",
       "      <td>0.377</td>\n",
       "      <td>0.558</td>\n",
       "      <td>4</td>\n",
       "      <td>0.0299</td>\n",
       "      <td>0.078900</td>\n",
       "      <td>0.000342</td>\n",
       "      <td>0.1250</td>\n",
       "    </tr>\n",
       "    <tr>\n",
       "      <th>967</th>\n",
       "      <td>INFERNO</td>\n",
       "      <td>0.820</td>\n",
       "      <td>0.611</td>\n",
       "      <td>9</td>\n",
       "      <td>0.1220</td>\n",
       "      <td>0.076600</td>\n",
       "      <td>0.000025</td>\n",
       "      <td>0.0684</td>\n",
       "    </tr>\n",
       "  </tbody>\n",
       "</table>\n",
       "<p>968 rows × 8 columns</p>\n",
       "</div>"
      ],
      "text/plain": [
       "                        track_name  danceability  energy  key  speechiness  \\\n",
       "0                         Shake It         0.618   0.955    4       0.0798   \n",
       "1                 Chinese New Year         0.744   0.845    4       0.2530   \n",
       "2                   Baby I'm Yours         0.829   0.792    2       0.0668   \n",
       "3                       The Git Up         0.847   0.678    9       0.1090   \n",
       "4             Say Hey (I Love You)         0.738   0.983    5       0.0855   \n",
       "..                             ...           ...     ...  ...          ...   \n",
       "963     The Less I Know The Better         0.640   0.740    4       0.0284   \n",
       "964                     Dandelions         0.609   0.692    1       0.0259   \n",
       "965  Jimmy Cooks (feat. 21 Savage)         0.529   0.673    0       0.1750   \n",
       "966                   Good Looking         0.377   0.558    4       0.0299   \n",
       "967                        INFERNO         0.820   0.611    9       0.1220   \n",
       "\n",
       "     acousticness  instrumentalness  liveness  \n",
       "0        0.002210          0.000003    0.4860  \n",
       "1        0.759000          0.232000    0.1000  \n",
       "2        0.726000          0.000006    0.1220  \n",
       "3        0.066900          0.000000    0.2740  \n",
       "4        0.038000          0.000006    0.1830  \n",
       "..            ...               ...       ...  \n",
       "963      0.011500          0.006780    0.1670  \n",
       "964      0.015700          0.000000    0.0864  \n",
       "965      0.000307          0.000002    0.0930  \n",
       "966      0.078900          0.000342    0.1250  \n",
       "967      0.076600          0.000025    0.0684  \n",
       "\n",
       "[968 rows x 8 columns]"
      ]
     },
     "execution_count": 446,
     "metadata": {},
     "output_type": "execute_result"
    }
   ],
   "source": [
    "tiktok = tiktok.reset_index()\n",
    "tiktok"
   ]
  },
  {
   "cell_type": "code",
   "execution_count": 447,
   "id": "64e3e337",
   "metadata": {},
   "outputs": [],
   "source": [
    "tiktok = tiktok.reindex(columns=['danceability','energy','key','speechiness','acousticness','instrumentalness','liveness'])"
   ]
  },
  {
   "cell_type": "code",
   "execution_count": 448,
   "id": "500f8bf4",
   "metadata": {},
   "outputs": [],
   "source": [
    "unpopular = unpopular.reset_index()"
   ]
  },
  {
   "cell_type": "code",
   "execution_count": 449,
   "id": "7a34395b",
   "metadata": {},
   "outputs": [
    {
     "data": {
      "text/html": [
       "<div>\n",
       "<style scoped>\n",
       "    .dataframe tbody tr th:only-of-type {\n",
       "        vertical-align: middle;\n",
       "    }\n",
       "\n",
       "    .dataframe tbody tr th {\n",
       "        vertical-align: top;\n",
       "    }\n",
       "\n",
       "    .dataframe thead th {\n",
       "        text-align: right;\n",
       "    }\n",
       "</style>\n",
       "<table border=\"1\" class=\"dataframe\">\n",
       "  <thead>\n",
       "    <tr style=\"text-align: right;\">\n",
       "      <th></th>\n",
       "      <th>danceability</th>\n",
       "      <th>energy</th>\n",
       "      <th>key</th>\n",
       "      <th>speechiness</th>\n",
       "      <th>acousticness</th>\n",
       "      <th>instrumentalness</th>\n",
       "      <th>liveness</th>\n",
       "      <th>valence</th>\n",
       "      <th>popularity</th>\n",
       "    </tr>\n",
       "  </thead>\n",
       "  <tbody>\n",
       "    <tr>\n",
       "      <th>0</th>\n",
       "      <td>0.955</td>\n",
       "      <td>0.281</td>\n",
       "      <td>0</td>\n",
       "      <td>0.466</td>\n",
       "      <td>0.00480</td>\n",
       "      <td>0.0595</td>\n",
       "      <td>0.1220</td>\n",
       "      <td>0.0934</td>\n",
       "      <td>0</td>\n",
       "    </tr>\n",
       "    <tr>\n",
       "      <th>1</th>\n",
       "      <td>0.753</td>\n",
       "      <td>0.355</td>\n",
       "      <td>8</td>\n",
       "      <td>0.514</td>\n",
       "      <td>0.57300</td>\n",
       "      <td>0.0000</td>\n",
       "      <td>0.0735</td>\n",
       "      <td>0.6000</td>\n",
       "      <td>0</td>\n",
       "    </tr>\n",
       "    <tr>\n",
       "      <th>2</th>\n",
       "      <td>0.650</td>\n",
       "      <td>0.331</td>\n",
       "      <td>3</td>\n",
       "      <td>0.383</td>\n",
       "      <td>0.86500</td>\n",
       "      <td>0.0000</td>\n",
       "      <td>0.1050</td>\n",
       "      <td>0.5810</td>\n",
       "      <td>0</td>\n",
       "    </tr>\n",
       "    <tr>\n",
       "      <th>3</th>\n",
       "      <td>0.690</td>\n",
       "      <td>0.360</td>\n",
       "      <td>4</td>\n",
       "      <td>0.455</td>\n",
       "      <td>0.76400</td>\n",
       "      <td>0.0000</td>\n",
       "      <td>0.1810</td>\n",
       "      <td>0.1050</td>\n",
       "      <td>0</td>\n",
       "    </tr>\n",
       "    <tr>\n",
       "      <th>4</th>\n",
       "      <td>0.849</td>\n",
       "      <td>0.275</td>\n",
       "      <td>6</td>\n",
       "      <td>0.694</td>\n",
       "      <td>0.41400</td>\n",
       "      <td>0.0000</td>\n",
       "      <td>0.0776</td>\n",
       "      <td>0.3760</td>\n",
       "      <td>0</td>\n",
       "    </tr>\n",
       "    <tr>\n",
       "      <th>...</th>\n",
       "      <td>...</td>\n",
       "      <td>...</td>\n",
       "      <td>...</td>\n",
       "      <td>...</td>\n",
       "      <td>...</td>\n",
       "      <td>...</td>\n",
       "      <td>...</td>\n",
       "      <td>...</td>\n",
       "      <td>...</td>\n",
       "    </tr>\n",
       "    <tr>\n",
       "      <th>2571</th>\n",
       "      <td>0.862</td>\n",
       "      <td>0.578</td>\n",
       "      <td>10</td>\n",
       "      <td>0.443</td>\n",
       "      <td>0.01460</td>\n",
       "      <td>0.0000</td>\n",
       "      <td>0.1190</td>\n",
       "      <td>0.3850</td>\n",
       "      <td>0</td>\n",
       "    </tr>\n",
       "    <tr>\n",
       "      <th>2572</th>\n",
       "      <td>0.686</td>\n",
       "      <td>0.511</td>\n",
       "      <td>8</td>\n",
       "      <td>0.435</td>\n",
       "      <td>0.01010</td>\n",
       "      <td>0.0000</td>\n",
       "      <td>0.1100</td>\n",
       "      <td>0.4020</td>\n",
       "      <td>0</td>\n",
       "    </tr>\n",
       "    <tr>\n",
       "      <th>2573</th>\n",
       "      <td>0.725</td>\n",
       "      <td>0.555</td>\n",
       "      <td>8</td>\n",
       "      <td>0.391</td>\n",
       "      <td>0.00189</td>\n",
       "      <td>0.0000</td>\n",
       "      <td>0.1100</td>\n",
       "      <td>0.1390</td>\n",
       "      <td>0</td>\n",
       "    </tr>\n",
       "    <tr>\n",
       "      <th>2574</th>\n",
       "      <td>0.763</td>\n",
       "      <td>0.534</td>\n",
       "      <td>1</td>\n",
       "      <td>0.317</td>\n",
       "      <td>0.00531</td>\n",
       "      <td>0.0000</td>\n",
       "      <td>0.1110</td>\n",
       "      <td>0.3020</td>\n",
       "      <td>0</td>\n",
       "    </tr>\n",
       "    <tr>\n",
       "      <th>2575</th>\n",
       "      <td>0.724</td>\n",
       "      <td>0.558</td>\n",
       "      <td>1</td>\n",
       "      <td>0.506</td>\n",
       "      <td>0.06630</td>\n",
       "      <td>0.0000</td>\n",
       "      <td>0.0833</td>\n",
       "      <td>0.5660</td>\n",
       "      <td>0</td>\n",
       "    </tr>\n",
       "  </tbody>\n",
       "</table>\n",
       "<p>2576 rows × 9 columns</p>\n",
       "</div>"
      ],
      "text/plain": [
       "      danceability  energy  key  speechiness  acousticness  instrumentalness  \\\n",
       "0            0.955   0.281    0        0.466       0.00480            0.0595   \n",
       "1            0.753   0.355    8        0.514       0.57300            0.0000   \n",
       "2            0.650   0.331    3        0.383       0.86500            0.0000   \n",
       "3            0.690   0.360    4        0.455       0.76400            0.0000   \n",
       "4            0.849   0.275    6        0.694       0.41400            0.0000   \n",
       "...            ...     ...  ...          ...           ...               ...   \n",
       "2571         0.862   0.578   10        0.443       0.01460            0.0000   \n",
       "2572         0.686   0.511    8        0.435       0.01010            0.0000   \n",
       "2573         0.725   0.555    8        0.391       0.00189            0.0000   \n",
       "2574         0.763   0.534    1        0.317       0.00531            0.0000   \n",
       "2575         0.724   0.558    1        0.506       0.06630            0.0000   \n",
       "\n",
       "      liveness  valence  popularity  \n",
       "0       0.1220   0.0934           0  \n",
       "1       0.0735   0.6000           0  \n",
       "2       0.1050   0.5810           0  \n",
       "3       0.1810   0.1050           0  \n",
       "4       0.0776   0.3760           0  \n",
       "...        ...      ...         ...  \n",
       "2571    0.1190   0.3850           0  \n",
       "2572    0.1100   0.4020           0  \n",
       "2573    0.1100   0.1390           0  \n",
       "2574    0.1110   0.3020           0  \n",
       "2575    0.0833   0.5660           0  \n",
       "\n",
       "[2576 rows x 9 columns]"
      ]
     },
     "execution_count": 449,
     "metadata": {},
     "output_type": "execute_result"
    }
   ],
   "source": [
    "unpopular"
   ]
  },
  {
   "cell_type": "code",
   "execution_count": 450,
   "id": "f4748d76",
   "metadata": {},
   "outputs": [
    {
     "data": {
      "text/plain": [
       "danceability        0\n",
       "energy              0\n",
       "key                 0\n",
       "speechiness         0\n",
       "acousticness        0\n",
       "instrumentalness    0\n",
       "liveness            0\n",
       "dtype: int64"
      ]
     },
     "execution_count": 450,
     "metadata": {},
     "output_type": "execute_result"
    }
   ],
   "source": [
    "tiktok.isna().sum()"
   ]
  },
  {
   "cell_type": "code",
   "execution_count": 451,
   "id": "2f3bf6df",
   "metadata": {},
   "outputs": [],
   "source": [
    "tiktok = tiktok.drop(['danceability'],axis = 1)"
   ]
  },
  {
   "cell_type": "code",
   "execution_count": 452,
   "id": "9b01af6e",
   "metadata": {},
   "outputs": [
    {
     "data": {
      "text/html": [
       "<div>\n",
       "<style scoped>\n",
       "    .dataframe tbody tr th:only-of-type {\n",
       "        vertical-align: middle;\n",
       "    }\n",
       "\n",
       "    .dataframe tbody tr th {\n",
       "        vertical-align: top;\n",
       "    }\n",
       "\n",
       "    .dataframe thead th {\n",
       "        text-align: right;\n",
       "    }\n",
       "</style>\n",
       "<table border=\"1\" class=\"dataframe\">\n",
       "  <thead>\n",
       "    <tr style=\"text-align: right;\">\n",
       "      <th></th>\n",
       "      <th>energy</th>\n",
       "      <th>key</th>\n",
       "      <th>speechiness</th>\n",
       "      <th>acousticness</th>\n",
       "      <th>instrumentalness</th>\n",
       "      <th>liveness</th>\n",
       "    </tr>\n",
       "  </thead>\n",
       "  <tbody>\n",
       "    <tr>\n",
       "      <th>0</th>\n",
       "      <td>0.955</td>\n",
       "      <td>4</td>\n",
       "      <td>0.0798</td>\n",
       "      <td>0.002210</td>\n",
       "      <td>0.000003</td>\n",
       "      <td>0.4860</td>\n",
       "    </tr>\n",
       "    <tr>\n",
       "      <th>1</th>\n",
       "      <td>0.845</td>\n",
       "      <td>4</td>\n",
       "      <td>0.2530</td>\n",
       "      <td>0.759000</td>\n",
       "      <td>0.232000</td>\n",
       "      <td>0.1000</td>\n",
       "    </tr>\n",
       "    <tr>\n",
       "      <th>2</th>\n",
       "      <td>0.792</td>\n",
       "      <td>2</td>\n",
       "      <td>0.0668</td>\n",
       "      <td>0.726000</td>\n",
       "      <td>0.000006</td>\n",
       "      <td>0.1220</td>\n",
       "    </tr>\n",
       "    <tr>\n",
       "      <th>3</th>\n",
       "      <td>0.678</td>\n",
       "      <td>9</td>\n",
       "      <td>0.1090</td>\n",
       "      <td>0.066900</td>\n",
       "      <td>0.000000</td>\n",
       "      <td>0.2740</td>\n",
       "    </tr>\n",
       "    <tr>\n",
       "      <th>4</th>\n",
       "      <td>0.983</td>\n",
       "      <td>5</td>\n",
       "      <td>0.0855</td>\n",
       "      <td>0.038000</td>\n",
       "      <td>0.000006</td>\n",
       "      <td>0.1830</td>\n",
       "    </tr>\n",
       "    <tr>\n",
       "      <th>...</th>\n",
       "      <td>...</td>\n",
       "      <td>...</td>\n",
       "      <td>...</td>\n",
       "      <td>...</td>\n",
       "      <td>...</td>\n",
       "      <td>...</td>\n",
       "    </tr>\n",
       "    <tr>\n",
       "      <th>963</th>\n",
       "      <td>0.740</td>\n",
       "      <td>4</td>\n",
       "      <td>0.0284</td>\n",
       "      <td>0.011500</td>\n",
       "      <td>0.006780</td>\n",
       "      <td>0.1670</td>\n",
       "    </tr>\n",
       "    <tr>\n",
       "      <th>964</th>\n",
       "      <td>0.692</td>\n",
       "      <td>1</td>\n",
       "      <td>0.0259</td>\n",
       "      <td>0.015700</td>\n",
       "      <td>0.000000</td>\n",
       "      <td>0.0864</td>\n",
       "    </tr>\n",
       "    <tr>\n",
       "      <th>965</th>\n",
       "      <td>0.673</td>\n",
       "      <td>0</td>\n",
       "      <td>0.1750</td>\n",
       "      <td>0.000307</td>\n",
       "      <td>0.000002</td>\n",
       "      <td>0.0930</td>\n",
       "    </tr>\n",
       "    <tr>\n",
       "      <th>966</th>\n",
       "      <td>0.558</td>\n",
       "      <td>4</td>\n",
       "      <td>0.0299</td>\n",
       "      <td>0.078900</td>\n",
       "      <td>0.000342</td>\n",
       "      <td>0.1250</td>\n",
       "    </tr>\n",
       "    <tr>\n",
       "      <th>967</th>\n",
       "      <td>0.611</td>\n",
       "      <td>9</td>\n",
       "      <td>0.1220</td>\n",
       "      <td>0.076600</td>\n",
       "      <td>0.000025</td>\n",
       "      <td>0.0684</td>\n",
       "    </tr>\n",
       "  </tbody>\n",
       "</table>\n",
       "<p>968 rows × 6 columns</p>\n",
       "</div>"
      ],
      "text/plain": [
       "     energy  key  speechiness  acousticness  instrumentalness  liveness\n",
       "0     0.955    4       0.0798      0.002210          0.000003    0.4860\n",
       "1     0.845    4       0.2530      0.759000          0.232000    0.1000\n",
       "2     0.792    2       0.0668      0.726000          0.000006    0.1220\n",
       "3     0.678    9       0.1090      0.066900          0.000000    0.2740\n",
       "4     0.983    5       0.0855      0.038000          0.000006    0.1830\n",
       "..      ...  ...          ...           ...               ...       ...\n",
       "963   0.740    4       0.0284      0.011500          0.006780    0.1670\n",
       "964   0.692    1       0.0259      0.015700          0.000000    0.0864\n",
       "965   0.673    0       0.1750      0.000307          0.000002    0.0930\n",
       "966   0.558    4       0.0299      0.078900          0.000342    0.1250\n",
       "967   0.611    9       0.1220      0.076600          0.000025    0.0684\n",
       "\n",
       "[968 rows x 6 columns]"
      ]
     },
     "execution_count": 452,
     "metadata": {},
     "output_type": "execute_result"
    }
   ],
   "source": [
    "tiktok"
   ]
  },
  {
   "cell_type": "code",
   "execution_count": 453,
   "id": "edc99f2c",
   "metadata": {},
   "outputs": [
    {
     "data": {
      "text/plain": [
       "1.0"
      ]
     },
     "execution_count": 453,
     "metadata": {},
     "output_type": "execute_result"
    }
   ],
   "source": [
    "tiktok.value_counts().sum()/len(tiktok) #no duplicates "
   ]
  },
  {
   "cell_type": "code",
   "execution_count": 454,
   "id": "22fde1f5",
   "metadata": {},
   "outputs": [
    {
     "data": {
      "text/plain": [
       "1.0"
      ]
     },
     "execution_count": 454,
     "metadata": {},
     "output_type": "execute_result"
    }
   ],
   "source": [
    "unpopular.value_counts().sum()/len(unpopular) #no duplicates "
   ]
  },
  {
   "cell_type": "code",
   "execution_count": 455,
   "id": "ab968a2f",
   "metadata": {},
   "outputs": [
    {
     "data": {
      "text/html": [
       "<div>\n",
       "<style scoped>\n",
       "    .dataframe tbody tr th:only-of-type {\n",
       "        vertical-align: middle;\n",
       "    }\n",
       "\n",
       "    .dataframe tbody tr th {\n",
       "        vertical-align: top;\n",
       "    }\n",
       "\n",
       "    .dataframe thead th {\n",
       "        text-align: right;\n",
       "    }\n",
       "</style>\n",
       "<table border=\"1\" class=\"dataframe\">\n",
       "  <thead>\n",
       "    <tr style=\"text-align: right;\">\n",
       "      <th></th>\n",
       "      <th>danceability</th>\n",
       "      <th>energy</th>\n",
       "      <th>key</th>\n",
       "      <th>speechiness</th>\n",
       "      <th>acousticness</th>\n",
       "      <th>instrumentalness</th>\n",
       "      <th>liveness</th>\n",
       "      <th>valence</th>\n",
       "      <th>popularity</th>\n",
       "    </tr>\n",
       "  </thead>\n",
       "  <tbody>\n",
       "    <tr>\n",
       "      <th>0</th>\n",
       "      <td>0.955</td>\n",
       "      <td>0.281</td>\n",
       "      <td>0</td>\n",
       "      <td>0.466</td>\n",
       "      <td>0.00480</td>\n",
       "      <td>0.0595</td>\n",
       "      <td>0.1220</td>\n",
       "      <td>0.0934</td>\n",
       "      <td>0</td>\n",
       "    </tr>\n",
       "    <tr>\n",
       "      <th>1</th>\n",
       "      <td>0.753</td>\n",
       "      <td>0.355</td>\n",
       "      <td>8</td>\n",
       "      <td>0.514</td>\n",
       "      <td>0.57300</td>\n",
       "      <td>0.0000</td>\n",
       "      <td>0.0735</td>\n",
       "      <td>0.6000</td>\n",
       "      <td>0</td>\n",
       "    </tr>\n",
       "    <tr>\n",
       "      <th>2</th>\n",
       "      <td>0.650</td>\n",
       "      <td>0.331</td>\n",
       "      <td>3</td>\n",
       "      <td>0.383</td>\n",
       "      <td>0.86500</td>\n",
       "      <td>0.0000</td>\n",
       "      <td>0.1050</td>\n",
       "      <td>0.5810</td>\n",
       "      <td>0</td>\n",
       "    </tr>\n",
       "    <tr>\n",
       "      <th>3</th>\n",
       "      <td>0.690</td>\n",
       "      <td>0.360</td>\n",
       "      <td>4</td>\n",
       "      <td>0.455</td>\n",
       "      <td>0.76400</td>\n",
       "      <td>0.0000</td>\n",
       "      <td>0.1810</td>\n",
       "      <td>0.1050</td>\n",
       "      <td>0</td>\n",
       "    </tr>\n",
       "    <tr>\n",
       "      <th>4</th>\n",
       "      <td>0.849</td>\n",
       "      <td>0.275</td>\n",
       "      <td>6</td>\n",
       "      <td>0.694</td>\n",
       "      <td>0.41400</td>\n",
       "      <td>0.0000</td>\n",
       "      <td>0.0776</td>\n",
       "      <td>0.3760</td>\n",
       "      <td>0</td>\n",
       "    </tr>\n",
       "    <tr>\n",
       "      <th>...</th>\n",
       "      <td>...</td>\n",
       "      <td>...</td>\n",
       "      <td>...</td>\n",
       "      <td>...</td>\n",
       "      <td>...</td>\n",
       "      <td>...</td>\n",
       "      <td>...</td>\n",
       "      <td>...</td>\n",
       "      <td>...</td>\n",
       "    </tr>\n",
       "    <tr>\n",
       "      <th>2571</th>\n",
       "      <td>0.862</td>\n",
       "      <td>0.578</td>\n",
       "      <td>10</td>\n",
       "      <td>0.443</td>\n",
       "      <td>0.01460</td>\n",
       "      <td>0.0000</td>\n",
       "      <td>0.1190</td>\n",
       "      <td>0.3850</td>\n",
       "      <td>0</td>\n",
       "    </tr>\n",
       "    <tr>\n",
       "      <th>2572</th>\n",
       "      <td>0.686</td>\n",
       "      <td>0.511</td>\n",
       "      <td>8</td>\n",
       "      <td>0.435</td>\n",
       "      <td>0.01010</td>\n",
       "      <td>0.0000</td>\n",
       "      <td>0.1100</td>\n",
       "      <td>0.4020</td>\n",
       "      <td>0</td>\n",
       "    </tr>\n",
       "    <tr>\n",
       "      <th>2573</th>\n",
       "      <td>0.725</td>\n",
       "      <td>0.555</td>\n",
       "      <td>8</td>\n",
       "      <td>0.391</td>\n",
       "      <td>0.00189</td>\n",
       "      <td>0.0000</td>\n",
       "      <td>0.1100</td>\n",
       "      <td>0.1390</td>\n",
       "      <td>0</td>\n",
       "    </tr>\n",
       "    <tr>\n",
       "      <th>2574</th>\n",
       "      <td>0.763</td>\n",
       "      <td>0.534</td>\n",
       "      <td>1</td>\n",
       "      <td>0.317</td>\n",
       "      <td>0.00531</td>\n",
       "      <td>0.0000</td>\n",
       "      <td>0.1110</td>\n",
       "      <td>0.3020</td>\n",
       "      <td>0</td>\n",
       "    </tr>\n",
       "    <tr>\n",
       "      <th>2575</th>\n",
       "      <td>0.724</td>\n",
       "      <td>0.558</td>\n",
       "      <td>1</td>\n",
       "      <td>0.506</td>\n",
       "      <td>0.06630</td>\n",
       "      <td>0.0000</td>\n",
       "      <td>0.0833</td>\n",
       "      <td>0.5660</td>\n",
       "      <td>0</td>\n",
       "    </tr>\n",
       "  </tbody>\n",
       "</table>\n",
       "<p>2576 rows × 9 columns</p>\n",
       "</div>"
      ],
      "text/plain": [
       "      danceability  energy  key  speechiness  acousticness  instrumentalness  \\\n",
       "0            0.955   0.281    0        0.466       0.00480            0.0595   \n",
       "1            0.753   0.355    8        0.514       0.57300            0.0000   \n",
       "2            0.650   0.331    3        0.383       0.86500            0.0000   \n",
       "3            0.690   0.360    4        0.455       0.76400            0.0000   \n",
       "4            0.849   0.275    6        0.694       0.41400            0.0000   \n",
       "...            ...     ...  ...          ...           ...               ...   \n",
       "2571         0.862   0.578   10        0.443       0.01460            0.0000   \n",
       "2572         0.686   0.511    8        0.435       0.01010            0.0000   \n",
       "2573         0.725   0.555    8        0.391       0.00189            0.0000   \n",
       "2574         0.763   0.534    1        0.317       0.00531            0.0000   \n",
       "2575         0.724   0.558    1        0.506       0.06630            0.0000   \n",
       "\n",
       "      liveness  valence  popularity  \n",
       "0       0.1220   0.0934           0  \n",
       "1       0.0735   0.6000           0  \n",
       "2       0.1050   0.5810           0  \n",
       "3       0.1810   0.1050           0  \n",
       "4       0.0776   0.3760           0  \n",
       "...        ...      ...         ...  \n",
       "2571    0.1190   0.3850           0  \n",
       "2572    0.1100   0.4020           0  \n",
       "2573    0.1100   0.1390           0  \n",
       "2574    0.1110   0.3020           0  \n",
       "2575    0.0833   0.5660           0  \n",
       "\n",
       "[2576 rows x 9 columns]"
      ]
     },
     "execution_count": 455,
     "metadata": {},
     "output_type": "execute_result"
    }
   ],
   "source": [
    "unpopular"
   ]
  },
  {
   "cell_type": "code",
   "execution_count": 456,
   "id": "7aa263c3",
   "metadata": {},
   "outputs": [
    {
     "data": {
      "text/plain": [
       "danceability        0\n",
       "energy              0\n",
       "key                 0\n",
       "speechiness         0\n",
       "acousticness        0\n",
       "instrumentalness    0\n",
       "liveness            0\n",
       "valence             0\n",
       "popularity          0\n",
       "dtype: int64"
      ]
     },
     "execution_count": 456,
     "metadata": {},
     "output_type": "execute_result"
    }
   ],
   "source": [
    "unpopular.isna().sum()"
   ]
  },
  {
   "cell_type": "code",
   "execution_count": 457,
   "id": "5ec1c520",
   "metadata": {},
   "outputs": [],
   "source": [
    "#check for multicolinearity "
   ]
  },
  {
   "cell_type": "code",
   "execution_count": 458,
   "id": "1bf6afee",
   "metadata": {},
   "outputs": [
    {
     "data": {
      "image/png": "[encoded data removed]",
      "text/plain": [
       "<Figure size 640x480 with 2 Axes>"
      ]
     },
     "metadata": {},
     "output_type": "display_data"
    }
   ],
   "source": [
    "sns.heatmap(tiktok.corr(),annot=True,annot_kws={\"size\": 8})\n",
    "plt.show()"
   ]
  },
  {
   "cell_type": "code",
   "execution_count": 459,
   "id": "0e752bfa",
   "metadata": {},
   "outputs": [
    {
     "data": {
      "image/png": "[encoded data removed]",
      "text/plain": [
       "<Figure size 640x480 with 2 Axes>"
      ]
     },
     "metadata": {},
     "output_type": "display_data"
    }
   ],
   "source": [
    "sns.heatmap(unpopular.corr(),cmap=\"BuGn\",annot=True,annot_kws={\"size\": 7})\n",
    "plt.show()"
   ]
  },
  {
   "cell_type": "code",
   "execution_count": null,
   "id": "8d8f8534",
   "metadata": {},
   "outputs": [],
   "source": []
  },
  {
   "cell_type": "code",
   "execution_count": 460,
   "id": "efbbeedd",
   "metadata": {},
   "outputs": [],
   "source": [
    "#droping extra columns\n",
    "unpopular = unpopular.drop(['danceability','valence'],axis = 1)"
   ]
  },
  {
   "cell_type": "code",
   "execution_count": 461,
   "id": "efacf4e4",
   "metadata": {},
   "outputs": [
    {
     "data": {
      "text/plain": [
       "energy              float64\n",
       "key                   int64\n",
       "speechiness         float64\n",
       "acousticness        float64\n",
       "instrumentalness    float64\n",
       "liveness            float64\n",
       "dtype: object"
      ]
     },
     "execution_count": 461,
     "metadata": {},
     "output_type": "execute_result"
    }
   ],
   "source": [
    "tiktok.dtypes"
   ]
  },
  {
   "cell_type": "code",
   "execution_count": 462,
   "id": "b2287746",
   "metadata": {},
   "outputs": [
    {
     "data": {
      "text/plain": [
       "energy              float64\n",
       "key                   int64\n",
       "speechiness         float64\n",
       "acousticness        float64\n",
       "instrumentalness    float64\n",
       "liveness            float64\n",
       "popularity            int64\n",
       "dtype: object"
      ]
     },
     "execution_count": 462,
     "metadata": {},
     "output_type": "execute_result"
    }
   ],
   "source": [
    "unpopular.dtypes"
   ]
  },
  {
   "cell_type": "code",
   "execution_count": 463,
   "id": "db4ea060",
   "metadata": {},
   "outputs": [],
   "source": [
    "def plot_distribution(tiktok): #ploting distribution\n",
    "    for col in tiktok.columns:\n",
    "        stat, p = shapiro(tiktok[col])\n",
    "\n",
    "        if p > 0.05:\n",
    "            print('The data is normal.')\n",
    "        else:\n",
    "            print('The data is likely not normal.')\n",
    "            \n",
    "    return tiktok"
   ]
  },
  {
   "cell_type": "code",
   "execution_count": 464,
   "id": "042fe606",
   "metadata": {},
   "outputs": [
    {
     "name": "stdout",
     "output_type": "stream",
     "text": [
      "The data is likely not normal.\n",
      "The data is likely not normal.\n",
      "The data is likely not normal.\n",
      "The data is likely not normal.\n",
      "The data is likely not normal.\n",
      "The data is likely not normal.\n"
     ]
    },
    {
     "data": {
      "text/html": [
       "<div>\n",
       "<style scoped>\n",
       "    .dataframe tbody tr th:only-of-type {\n",
       "        vertical-align: middle;\n",
       "    }\n",
       "\n",
       "    .dataframe tbody tr th {\n",
       "        vertical-align: top;\n",
       "    }\n",
       "\n",
       "    .dataframe thead th {\n",
       "        text-align: right;\n",
       "    }\n",
       "</style>\n",
       "<table border=\"1\" class=\"dataframe\">\n",
       "  <thead>\n",
       "    <tr style=\"text-align: right;\">\n",
       "      <th></th>\n",
       "      <th>energy</th>\n",
       "      <th>key</th>\n",
       "      <th>speechiness</th>\n",
       "      <th>acousticness</th>\n",
       "      <th>instrumentalness</th>\n",
       "      <th>liveness</th>\n",
       "    </tr>\n",
       "  </thead>\n",
       "  <tbody>\n",
       "    <tr>\n",
       "      <th>0</th>\n",
       "      <td>0.955</td>\n",
       "      <td>4</td>\n",
       "      <td>0.0798</td>\n",
       "      <td>0.002210</td>\n",
       "      <td>0.000003</td>\n",
       "      <td>0.4860</td>\n",
       "    </tr>\n",
       "    <tr>\n",
       "      <th>1</th>\n",
       "      <td>0.845</td>\n",
       "      <td>4</td>\n",
       "      <td>0.2530</td>\n",
       "      <td>0.759000</td>\n",
       "      <td>0.232000</td>\n",
       "      <td>0.1000</td>\n",
       "    </tr>\n",
       "    <tr>\n",
       "      <th>2</th>\n",
       "      <td>0.792</td>\n",
       "      <td>2</td>\n",
       "      <td>0.0668</td>\n",
       "      <td>0.726000</td>\n",
       "      <td>0.000006</td>\n",
       "      <td>0.1220</td>\n",
       "    </tr>\n",
       "    <tr>\n",
       "      <th>3</th>\n",
       "      <td>0.678</td>\n",
       "      <td>9</td>\n",
       "      <td>0.1090</td>\n",
       "      <td>0.066900</td>\n",
       "      <td>0.000000</td>\n",
       "      <td>0.2740</td>\n",
       "    </tr>\n",
       "    <tr>\n",
       "      <th>4</th>\n",
       "      <td>0.983</td>\n",
       "      <td>5</td>\n",
       "      <td>0.0855</td>\n",
       "      <td>0.038000</td>\n",
       "      <td>0.000006</td>\n",
       "      <td>0.1830</td>\n",
       "    </tr>\n",
       "    <tr>\n",
       "      <th>...</th>\n",
       "      <td>...</td>\n",
       "      <td>...</td>\n",
       "      <td>...</td>\n",
       "      <td>...</td>\n",
       "      <td>...</td>\n",
       "      <td>...</td>\n",
       "    </tr>\n",
       "    <tr>\n",
       "      <th>963</th>\n",
       "      <td>0.740</td>\n",
       "      <td>4</td>\n",
       "      <td>0.0284</td>\n",
       "      <td>0.011500</td>\n",
       "      <td>0.006780</td>\n",
       "      <td>0.1670</td>\n",
       "    </tr>\n",
       "    <tr>\n",
       "      <th>964</th>\n",
       "      <td>0.692</td>\n",
       "      <td>1</td>\n",
       "      <td>0.0259</td>\n",
       "      <td>0.015700</td>\n",
       "      <td>0.000000</td>\n",
       "      <td>0.0864</td>\n",
       "    </tr>\n",
       "    <tr>\n",
       "      <th>965</th>\n",
       "      <td>0.673</td>\n",
       "      <td>0</td>\n",
       "      <td>0.1750</td>\n",
       "      <td>0.000307</td>\n",
       "      <td>0.000002</td>\n",
       "      <td>0.0930</td>\n",
       "    </tr>\n",
       "    <tr>\n",
       "      <th>966</th>\n",
       "      <td>0.558</td>\n",
       "      <td>4</td>\n",
       "      <td>0.0299</td>\n",
       "      <td>0.078900</td>\n",
       "      <td>0.000342</td>\n",
       "      <td>0.1250</td>\n",
       "    </tr>\n",
       "    <tr>\n",
       "      <th>967</th>\n",
       "      <td>0.611</td>\n",
       "      <td>9</td>\n",
       "      <td>0.1220</td>\n",
       "      <td>0.076600</td>\n",
       "      <td>0.000025</td>\n",
       "      <td>0.0684</td>\n",
       "    </tr>\n",
       "  </tbody>\n",
       "</table>\n",
       "<p>968 rows × 6 columns</p>\n",
       "</div>"
      ],
      "text/plain": [
       "     energy  key  speechiness  acousticness  instrumentalness  liveness\n",
       "0     0.955    4       0.0798      0.002210          0.000003    0.4860\n",
       "1     0.845    4       0.2530      0.759000          0.232000    0.1000\n",
       "2     0.792    2       0.0668      0.726000          0.000006    0.1220\n",
       "3     0.678    9       0.1090      0.066900          0.000000    0.2740\n",
       "4     0.983    5       0.0855      0.038000          0.000006    0.1830\n",
       "..      ...  ...          ...           ...               ...       ...\n",
       "963   0.740    4       0.0284      0.011500          0.006780    0.1670\n",
       "964   0.692    1       0.0259      0.015700          0.000000    0.0864\n",
       "965   0.673    0       0.1750      0.000307          0.000002    0.0930\n",
       "966   0.558    4       0.0299      0.078900          0.000342    0.1250\n",
       "967   0.611    9       0.1220      0.076600          0.000025    0.0684\n",
       "\n",
       "[968 rows x 6 columns]"
      ]
     },
     "execution_count": 464,
     "metadata": {},
     "output_type": "execute_result"
    }
   ],
   "source": [
    "plot_distribution(tiktok)"
   ]
  },
  {
   "cell_type": "code",
   "execution_count": 465,
   "id": "18be8fa7",
   "metadata": {},
   "outputs": [
    {
     "name": "stdout",
     "output_type": "stream",
     "text": [
      "The data is likely not normal.\n",
      "The data is likely not normal.\n",
      "The data is likely not normal.\n",
      "The data is likely not normal.\n",
      "The data is likely not normal.\n",
      "The data is likely not normal.\n",
      "The data is normal.\n"
     ]
    },
    {
     "name": "stderr",
     "output_type": "stream",
     "text": [
      "/Users/diogocapitao/opt/anaconda3/lib/python3.9/site-packages/scipy/stats/_morestats.py:1797: UserWarning: Input data for shapiro has range zero. The results may not be accurate.\n",
      "  warnings.warn(\"Input data for shapiro has range zero. The results \"\n"
     ]
    },
    {
     "data": {
      "text/html": [
       "<div>\n",
       "<style scoped>\n",
       "    .dataframe tbody tr th:only-of-type {\n",
       "        vertical-align: middle;\n",
       "    }\n",
       "\n",
       "    .dataframe tbody tr th {\n",
       "        vertical-align: top;\n",
       "    }\n",
       "\n",
       "    .dataframe thead th {\n",
       "        text-align: right;\n",
       "    }\n",
       "</style>\n",
       "<table border=\"1\" class=\"dataframe\">\n",
       "  <thead>\n",
       "    <tr style=\"text-align: right;\">\n",
       "      <th></th>\n",
       "      <th>energy</th>\n",
       "      <th>key</th>\n",
       "      <th>speechiness</th>\n",
       "      <th>acousticness</th>\n",
       "      <th>instrumentalness</th>\n",
       "      <th>liveness</th>\n",
       "      <th>popularity</th>\n",
       "    </tr>\n",
       "  </thead>\n",
       "  <tbody>\n",
       "    <tr>\n",
       "      <th>0</th>\n",
       "      <td>0.281</td>\n",
       "      <td>0</td>\n",
       "      <td>0.466</td>\n",
       "      <td>0.00480</td>\n",
       "      <td>0.0595</td>\n",
       "      <td>0.1220</td>\n",
       "      <td>0</td>\n",
       "    </tr>\n",
       "    <tr>\n",
       "      <th>1</th>\n",
       "      <td>0.355</td>\n",
       "      <td>8</td>\n",
       "      <td>0.514</td>\n",
       "      <td>0.57300</td>\n",
       "      <td>0.0000</td>\n",
       "      <td>0.0735</td>\n",
       "      <td>0</td>\n",
       "    </tr>\n",
       "    <tr>\n",
       "      <th>2</th>\n",
       "      <td>0.331</td>\n",
       "      <td>3</td>\n",
       "      <td>0.383</td>\n",
       "      <td>0.86500</td>\n",
       "      <td>0.0000</td>\n",
       "      <td>0.1050</td>\n",
       "      <td>0</td>\n",
       "    </tr>\n",
       "    <tr>\n",
       "      <th>3</th>\n",
       "      <td>0.360</td>\n",
       "      <td>4</td>\n",
       "      <td>0.455</td>\n",
       "      <td>0.76400</td>\n",
       "      <td>0.0000</td>\n",
       "      <td>0.1810</td>\n",
       "      <td>0</td>\n",
       "    </tr>\n",
       "    <tr>\n",
       "      <th>4</th>\n",
       "      <td>0.275</td>\n",
       "      <td>6</td>\n",
       "      <td>0.694</td>\n",
       "      <td>0.41400</td>\n",
       "      <td>0.0000</td>\n",
       "      <td>0.0776</td>\n",
       "      <td>0</td>\n",
       "    </tr>\n",
       "    <tr>\n",
       "      <th>...</th>\n",
       "      <td>...</td>\n",
       "      <td>...</td>\n",
       "      <td>...</td>\n",
       "      <td>...</td>\n",
       "      <td>...</td>\n",
       "      <td>...</td>\n",
       "      <td>...</td>\n",
       "    </tr>\n",
       "    <tr>\n",
       "      <th>2571</th>\n",
       "      <td>0.578</td>\n",
       "      <td>10</td>\n",
       "      <td>0.443</td>\n",
       "      <td>0.01460</td>\n",
       "      <td>0.0000</td>\n",
       "      <td>0.1190</td>\n",
       "      <td>0</td>\n",
       "    </tr>\n",
       "    <tr>\n",
       "      <th>2572</th>\n",
       "      <td>0.511</td>\n",
       "      <td>8</td>\n",
       "      <td>0.435</td>\n",
       "      <td>0.01010</td>\n",
       "      <td>0.0000</td>\n",
       "      <td>0.1100</td>\n",
       "      <td>0</td>\n",
       "    </tr>\n",
       "    <tr>\n",
       "      <th>2573</th>\n",
       "      <td>0.555</td>\n",
       "      <td>8</td>\n",
       "      <td>0.391</td>\n",
       "      <td>0.00189</td>\n",
       "      <td>0.0000</td>\n",
       "      <td>0.1100</td>\n",
       "      <td>0</td>\n",
       "    </tr>\n",
       "    <tr>\n",
       "      <th>2574</th>\n",
       "      <td>0.534</td>\n",
       "      <td>1</td>\n",
       "      <td>0.317</td>\n",
       "      <td>0.00531</td>\n",
       "      <td>0.0000</td>\n",
       "      <td>0.1110</td>\n",
       "      <td>0</td>\n",
       "    </tr>\n",
       "    <tr>\n",
       "      <th>2575</th>\n",
       "      <td>0.558</td>\n",
       "      <td>1</td>\n",
       "      <td>0.506</td>\n",
       "      <td>0.06630</td>\n",
       "      <td>0.0000</td>\n",
       "      <td>0.0833</td>\n",
       "      <td>0</td>\n",
       "    </tr>\n",
       "  </tbody>\n",
       "</table>\n",
       "<p>2576 rows × 7 columns</p>\n",
       "</div>"
      ],
      "text/plain": [
       "      energy  key  speechiness  acousticness  instrumentalness  liveness  \\\n",
       "0      0.281    0        0.466       0.00480            0.0595    0.1220   \n",
       "1      0.355    8        0.514       0.57300            0.0000    0.0735   \n",
       "2      0.331    3        0.383       0.86500            0.0000    0.1050   \n",
       "3      0.360    4        0.455       0.76400            0.0000    0.1810   \n",
       "4      0.275    6        0.694       0.41400            0.0000    0.0776   \n",
       "...      ...  ...          ...           ...               ...       ...   \n",
       "2571   0.578   10        0.443       0.01460            0.0000    0.1190   \n",
       "2572   0.511    8        0.435       0.01010            0.0000    0.1100   \n",
       "2573   0.555    8        0.391       0.00189            0.0000    0.1100   \n",
       "2574   0.534    1        0.317       0.00531            0.0000    0.1110   \n",
       "2575   0.558    1        0.506       0.06630            0.0000    0.0833   \n",
       "\n",
       "      popularity  \n",
       "0              0  \n",
       "1              0  \n",
       "2              0  \n",
       "3              0  \n",
       "4              0  \n",
       "...          ...  \n",
       "2571           0  \n",
       "2572           0  \n",
       "2573           0  \n",
       "2574           0  \n",
       "2575           0  \n",
       "\n",
       "[2576 rows x 7 columns]"
      ]
     },
     "execution_count": 465,
     "metadata": {},
     "output_type": "execute_result"
    }
   ],
   "source": [
    "plot_distribution(unpopular)"
   ]
  },
  {
   "cell_type": "code",
   "execution_count": 466,
   "id": "93e5cdbc",
   "metadata": {},
   "outputs": [],
   "source": [
    "def plot_distribution(tiktok):\n",
    "    for col in tiktok.columns:\n",
    "        sns.histplot(tiktok[col])\n",
    "        plt.show()\n",
    " \n",
    "            \n",
    "    return tiktok"
   ]
  },
  {
   "cell_type": "code",
   "execution_count": 467,
   "id": "3164910d",
   "metadata": {},
   "outputs": [
    {
     "data": {
      "image/png": "[encoded data removed]",
      "text/plain": [
       "<Figure size 640x480 with 1 Axes>"
      ]
     },
     "metadata": {},
     "output_type": "display_data"
    },
    {
     "data": {
      "image/png": "[encoded data removed]",
      "text/plain": [
       "<Figure size 640x480 with 1 Axes>"
      ]
     },
     "metadata": {},
     "output_type": "display_data"
    },
    {
     "data": {
      "image/png": "[encoded data removed]",
      "text/plain": [
       "<Figure size 640x480 with 1 Axes>"
      ]
     },
     "metadata": {},
     "output_type": "display_data"
    },
    {
     "data": {
      "image/png": "[encoded data removed]",
      "text/plain": [
       "<Figure size 640x480 with 1 Axes>"
      ]
     },
     "metadata": {},
     "output_type": "display_data"
    },
    {
     "data": {
      "image/png": "[encoded data removed]",
      "text/plain": [
       "<Figure size 640x480 with 1 Axes>"
      ]
     },
     "metadata": {},
     "output_type": "display_data"
    },
    {
     "data": {
      "image/png": "[encoded data removed]",
      "text/plain": [
       "<Figure size 640x480 with 1 Axes>"
      ]
     },
     "metadata": {},
     "output_type": "display_data"
    },
    {
     "data": {
      "text/html": [
       "<div>\n",
       "<style scoped>\n",
       "    .dataframe tbody tr th:only-of-type {\n",
       "        vertical-align: middle;\n",
       "    }\n",
       "\n",
       "    .dataframe tbody tr th {\n",
       "        vertical-align: top;\n",
       "    }\n",
       "\n",
       "    .dataframe thead th {\n",
       "        text-align: right;\n",
       "    }\n",
       "</style>\n",
       "<table border=\"1\" class=\"dataframe\">\n",
       "  <thead>\n",
       "    <tr style=\"text-align: right;\">\n",
       "      <th></th>\n",
       "      <th>energy</th>\n",
       "      <th>key</th>\n",
       "      <th>speechiness</th>\n",
       "      <th>acousticness</th>\n",
       "      <th>instrumentalness</th>\n",
       "      <th>liveness</th>\n",
       "    </tr>\n",
       "  </thead>\n",
       "  <tbody>\n",
       "    <tr>\n",
       "      <th>0</th>\n",
       "      <td>0.955</td>\n",
       "      <td>4</td>\n",
       "      <td>0.0798</td>\n",
       "      <td>0.002210</td>\n",
       "      <td>0.000003</td>\n",
       "      <td>0.4860</td>\n",
       "    </tr>\n",
       "    <tr>\n",
       "      <th>1</th>\n",
       "      <td>0.845</td>\n",
       "      <td>4</td>\n",
       "      <td>0.2530</td>\n",
       "      <td>0.759000</td>\n",
       "      <td>0.232000</td>\n",
       "      <td>0.1000</td>\n",
       "    </tr>\n",
       "    <tr>\n",
       "      <th>2</th>\n",
       "      <td>0.792</td>\n",
       "      <td>2</td>\n",
       "      <td>0.0668</td>\n",
       "      <td>0.726000</td>\n",
       "      <td>0.000006</td>\n",
       "      <td>0.1220</td>\n",
       "    </tr>\n",
       "    <tr>\n",
       "      <th>3</th>\n",
       "      <td>0.678</td>\n",
       "      <td>9</td>\n",
       "      <td>0.1090</td>\n",
       "      <td>0.066900</td>\n",
       "      <td>0.000000</td>\n",
       "      <td>0.2740</td>\n",
       "    </tr>\n",
       "    <tr>\n",
       "      <th>4</th>\n",
       "      <td>0.983</td>\n",
       "      <td>5</td>\n",
       "      <td>0.0855</td>\n",
       "      <td>0.038000</td>\n",
       "      <td>0.000006</td>\n",
       "      <td>0.1830</td>\n",
       "    </tr>\n",
       "    <tr>\n",
       "      <th>...</th>\n",
       "      <td>...</td>\n",
       "      <td>...</td>\n",
       "      <td>...</td>\n",
       "      <td>...</td>\n",
       "      <td>...</td>\n",
       "      <td>...</td>\n",
       "    </tr>\n",
       "    <tr>\n",
       "      <th>963</th>\n",
       "      <td>0.740</td>\n",
       "      <td>4</td>\n",
       "      <td>0.0284</td>\n",
       "      <td>0.011500</td>\n",
       "      <td>0.006780</td>\n",
       "      <td>0.1670</td>\n",
       "    </tr>\n",
       "    <tr>\n",
       "      <th>964</th>\n",
       "      <td>0.692</td>\n",
       "      <td>1</td>\n",
       "      <td>0.0259</td>\n",
       "      <td>0.015700</td>\n",
       "      <td>0.000000</td>\n",
       "      <td>0.0864</td>\n",
       "    </tr>\n",
       "    <tr>\n",
       "      <th>965</th>\n",
       "      <td>0.673</td>\n",
       "      <td>0</td>\n",
       "      <td>0.1750</td>\n",
       "      <td>0.000307</td>\n",
       "      <td>0.000002</td>\n",
       "      <td>0.0930</td>\n",
       "    </tr>\n",
       "    <tr>\n",
       "      <th>966</th>\n",
       "      <td>0.558</td>\n",
       "      <td>4</td>\n",
       "      <td>0.0299</td>\n",
       "      <td>0.078900</td>\n",
       "      <td>0.000342</td>\n",
       "      <td>0.1250</td>\n",
       "    </tr>\n",
       "    <tr>\n",
       "      <th>967</th>\n",
       "      <td>0.611</td>\n",
       "      <td>9</td>\n",
       "      <td>0.1220</td>\n",
       "      <td>0.076600</td>\n",
       "      <td>0.000025</td>\n",
       "      <td>0.0684</td>\n",
       "    </tr>\n",
       "  </tbody>\n",
       "</table>\n",
       "<p>968 rows × 6 columns</p>\n",
       "</div>"
      ],
      "text/plain": [
       "     energy  key  speechiness  acousticness  instrumentalness  liveness\n",
       "0     0.955    4       0.0798      0.002210          0.000003    0.4860\n",
       "1     0.845    4       0.2530      0.759000          0.232000    0.1000\n",
       "2     0.792    2       0.0668      0.726000          0.000006    0.1220\n",
       "3     0.678    9       0.1090      0.066900          0.000000    0.2740\n",
       "4     0.983    5       0.0855      0.038000          0.000006    0.1830\n",
       "..      ...  ...          ...           ...               ...       ...\n",
       "963   0.740    4       0.0284      0.011500          0.006780    0.1670\n",
       "964   0.692    1       0.0259      0.015700          0.000000    0.0864\n",
       "965   0.673    0       0.1750      0.000307          0.000002    0.0930\n",
       "966   0.558    4       0.0299      0.078900          0.000342    0.1250\n",
       "967   0.611    9       0.1220      0.076600          0.000025    0.0684\n",
       "\n",
       "[968 rows x 6 columns]"
      ]
     },
     "execution_count": 467,
     "metadata": {},
     "output_type": "execute_result"
    }
   ],
   "source": [
    "plot_distribution(tiktok)"
   ]
  },
  {
   "cell_type": "code",
   "execution_count": 468,
   "id": "b9940a33",
   "metadata": {},
   "outputs": [
    {
     "data": {
      "image/png": "[encoded data removed]",
      "text/plain": [
       "<Figure size 640x480 with 1 Axes>"
      ]
     },
     "metadata": {},
     "output_type": "display_data"
    },
    {
     "data": {
      "image/png": "[encoded data removed]",
      "text/plain": [
       "<Figure size 640x480 with 1 Axes>"
      ]
     },
     "metadata": {},
     "output_type": "display_data"
    },
    {
     "data": {
      "image/png": "[encoded data removed]",
      "text/plain": [
       "<Figure size 640x480 with 1 Axes>"
      ]
     },
     "metadata": {},
     "output_type": "display_data"
    },
    {
     "data": {
      "image/png": "[encoded data removed]",
      "text/plain": [
       "<Figure size 640x480 with 1 Axes>"
      ]
     },
     "metadata": {},
     "output_type": "display_data"
    },
    {
     "data": {
      "image/png": "[encoded data removed]",
      "text/plain": [
       "<Figure size 640x480 with 1 Axes>"
      ]
     },
     "metadata": {},
     "output_type": "display_data"
    },
    {
     "data": {
      "image/png": "[encoded data removed]",
      "text/plain": [
       "<Figure size 640x480 with 1 Axes>"
      ]
     },
     "metadata": {},
     "output_type": "display_data"
    },
    {
     "data": {
      "image/png": "[encoded data removed]",
      "text/plain": [
       "<Figure size 640x480 with 1 Axes>"
      ]
     },
     "metadata": {},
     "output_type": "display_data"
    },
    {
     "data": {
      "text/html": [
       "<div>\n",
       "<style scoped>\n",
       "    .dataframe tbody tr th:only-of-type {\n",
       "        vertical-align: middle;\n",
       "    }\n",
       "\n",
       "    .dataframe tbody tr th {\n",
       "        vertical-align: top;\n",
       "    }\n",
       "\n",
       "    .dataframe thead th {\n",
       "        text-align: right;\n",
       "    }\n",
       "</style>\n",
       "<table border=\"1\" class=\"dataframe\">\n",
       "  <thead>\n",
       "    <tr style=\"text-align: right;\">\n",
       "      <th></th>\n",
       "      <th>energy</th>\n",
       "      <th>key</th>\n",
       "      <th>speechiness</th>\n",
       "      <th>acousticness</th>\n",
       "      <th>instrumentalness</th>\n",
       "      <th>liveness</th>\n",
       "      <th>popularity</th>\n",
       "    </tr>\n",
       "  </thead>\n",
       "  <tbody>\n",
       "    <tr>\n",
       "      <th>0</th>\n",
       "      <td>0.281</td>\n",
       "      <td>0</td>\n",
       "      <td>0.466</td>\n",
       "      <td>0.00480</td>\n",
       "      <td>0.0595</td>\n",
       "      <td>0.1220</td>\n",
       "      <td>0</td>\n",
       "    </tr>\n",
       "    <tr>\n",
       "      <th>1</th>\n",
       "      <td>0.355</td>\n",
       "      <td>8</td>\n",
       "      <td>0.514</td>\n",
       "      <td>0.57300</td>\n",
       "      <td>0.0000</td>\n",
       "      <td>0.0735</td>\n",
       "      <td>0</td>\n",
       "    </tr>\n",
       "    <tr>\n",
       "      <th>2</th>\n",
       "      <td>0.331</td>\n",
       "      <td>3</td>\n",
       "      <td>0.383</td>\n",
       "      <td>0.86500</td>\n",
       "      <td>0.0000</td>\n",
       "      <td>0.1050</td>\n",
       "      <td>0</td>\n",
       "    </tr>\n",
       "    <tr>\n",
       "      <th>3</th>\n",
       "      <td>0.360</td>\n",
       "      <td>4</td>\n",
       "      <td>0.455</td>\n",
       "      <td>0.76400</td>\n",
       "      <td>0.0000</td>\n",
       "      <td>0.1810</td>\n",
       "      <td>0</td>\n",
       "    </tr>\n",
       "    <tr>\n",
       "      <th>4</th>\n",
       "      <td>0.275</td>\n",
       "      <td>6</td>\n",
       "      <td>0.694</td>\n",
       "      <td>0.41400</td>\n",
       "      <td>0.0000</td>\n",
       "      <td>0.0776</td>\n",
       "      <td>0</td>\n",
       "    </tr>\n",
       "    <tr>\n",
       "      <th>...</th>\n",
       "      <td>...</td>\n",
       "      <td>...</td>\n",
       "      <td>...</td>\n",
       "      <td>...</td>\n",
       "      <td>...</td>\n",
       "      <td>...</td>\n",
       "      <td>...</td>\n",
       "    </tr>\n",
       "    <tr>\n",
       "      <th>2571</th>\n",
       "      <td>0.578</td>\n",
       "      <td>10</td>\n",
       "      <td>0.443</td>\n",
       "      <td>0.01460</td>\n",
       "      <td>0.0000</td>\n",
       "      <td>0.1190</td>\n",
       "      <td>0</td>\n",
       "    </tr>\n",
       "    <tr>\n",
       "      <th>2572</th>\n",
       "      <td>0.511</td>\n",
       "      <td>8</td>\n",
       "      <td>0.435</td>\n",
       "      <td>0.01010</td>\n",
       "      <td>0.0000</td>\n",
       "      <td>0.1100</td>\n",
       "      <td>0</td>\n",
       "    </tr>\n",
       "    <tr>\n",
       "      <th>2573</th>\n",
       "      <td>0.555</td>\n",
       "      <td>8</td>\n",
       "      <td>0.391</td>\n",
       "      <td>0.00189</td>\n",
       "      <td>0.0000</td>\n",
       "      <td>0.1100</td>\n",
       "      <td>0</td>\n",
       "    </tr>\n",
       "    <tr>\n",
       "      <th>2574</th>\n",
       "      <td>0.534</td>\n",
       "      <td>1</td>\n",
       "      <td>0.317</td>\n",
       "      <td>0.00531</td>\n",
       "      <td>0.0000</td>\n",
       "      <td>0.1110</td>\n",
       "      <td>0</td>\n",
       "    </tr>\n",
       "    <tr>\n",
       "      <th>2575</th>\n",
       "      <td>0.558</td>\n",
       "      <td>1</td>\n",
       "      <td>0.506</td>\n",
       "      <td>0.06630</td>\n",
       "      <td>0.0000</td>\n",
       "      <td>0.0833</td>\n",
       "      <td>0</td>\n",
       "    </tr>\n",
       "  </tbody>\n",
       "</table>\n",
       "<p>2576 rows × 7 columns</p>\n",
       "</div>"
      ],
      "text/plain": [
       "      energy  key  speechiness  acousticness  instrumentalness  liveness  \\\n",
       "0      0.281    0        0.466       0.00480            0.0595    0.1220   \n",
       "1      0.355    8        0.514       0.57300            0.0000    0.0735   \n",
       "2      0.331    3        0.383       0.86500            0.0000    0.1050   \n",
       "3      0.360    4        0.455       0.76400            0.0000    0.1810   \n",
       "4      0.275    6        0.694       0.41400            0.0000    0.0776   \n",
       "...      ...  ...          ...           ...               ...       ...   \n",
       "2571   0.578   10        0.443       0.01460            0.0000    0.1190   \n",
       "2572   0.511    8        0.435       0.01010            0.0000    0.1100   \n",
       "2573   0.555    8        0.391       0.00189            0.0000    0.1100   \n",
       "2574   0.534    1        0.317       0.00531            0.0000    0.1110   \n",
       "2575   0.558    1        0.506       0.06630            0.0000    0.0833   \n",
       "\n",
       "      popularity  \n",
       "0              0  \n",
       "1              0  \n",
       "2              0  \n",
       "3              0  \n",
       "4              0  \n",
       "...          ...  \n",
       "2571           0  \n",
       "2572           0  \n",
       "2573           0  \n",
       "2574           0  \n",
       "2575           0  \n",
       "\n",
       "[2576 rows x 7 columns]"
      ]
     },
     "execution_count": 468,
     "metadata": {},
     "output_type": "execute_result"
    }
   ],
   "source": [
    "plot_distribution(unpopular)"
   ]
  },
  {
   "cell_type": "code",
   "execution_count": 469,
   "id": "eebcca94",
   "metadata": {},
   "outputs": [
    {
     "data": {
      "text/html": [
       "<div>\n",
       "<style scoped>\n",
       "    .dataframe tbody tr th:only-of-type {\n",
       "        vertical-align: middle;\n",
       "    }\n",
       "\n",
       "    .dataframe tbody tr th {\n",
       "        vertical-align: top;\n",
       "    }\n",
       "\n",
       "    .dataframe thead th {\n",
       "        text-align: right;\n",
       "    }\n",
       "</style>\n",
       "<table border=\"1\" class=\"dataframe\">\n",
       "  <thead>\n",
       "    <tr style=\"text-align: right;\">\n",
       "      <th></th>\n",
       "      <th>energy</th>\n",
       "      <th>key</th>\n",
       "      <th>speechiness</th>\n",
       "      <th>acousticness</th>\n",
       "      <th>instrumentalness</th>\n",
       "      <th>liveness</th>\n",
       "      <th>popularity</th>\n",
       "    </tr>\n",
       "  </thead>\n",
       "  <tbody>\n",
       "    <tr>\n",
       "      <th>0</th>\n",
       "      <td>0.281</td>\n",
       "      <td>0</td>\n",
       "      <td>0.466</td>\n",
       "      <td>0.00480</td>\n",
       "      <td>0.0595</td>\n",
       "      <td>0.1220</td>\n",
       "      <td>0</td>\n",
       "    </tr>\n",
       "    <tr>\n",
       "      <th>1</th>\n",
       "      <td>0.355</td>\n",
       "      <td>8</td>\n",
       "      <td>0.514</td>\n",
       "      <td>0.57300</td>\n",
       "      <td>0.0000</td>\n",
       "      <td>0.0735</td>\n",
       "      <td>0</td>\n",
       "    </tr>\n",
       "    <tr>\n",
       "      <th>2</th>\n",
       "      <td>0.331</td>\n",
       "      <td>3</td>\n",
       "      <td>0.383</td>\n",
       "      <td>0.86500</td>\n",
       "      <td>0.0000</td>\n",
       "      <td>0.1050</td>\n",
       "      <td>0</td>\n",
       "    </tr>\n",
       "    <tr>\n",
       "      <th>3</th>\n",
       "      <td>0.360</td>\n",
       "      <td>4</td>\n",
       "      <td>0.455</td>\n",
       "      <td>0.76400</td>\n",
       "      <td>0.0000</td>\n",
       "      <td>0.1810</td>\n",
       "      <td>0</td>\n",
       "    </tr>\n",
       "    <tr>\n",
       "      <th>4</th>\n",
       "      <td>0.275</td>\n",
       "      <td>6</td>\n",
       "      <td>0.694</td>\n",
       "      <td>0.41400</td>\n",
       "      <td>0.0000</td>\n",
       "      <td>0.0776</td>\n",
       "      <td>0</td>\n",
       "    </tr>\n",
       "    <tr>\n",
       "      <th>...</th>\n",
       "      <td>...</td>\n",
       "      <td>...</td>\n",
       "      <td>...</td>\n",
       "      <td>...</td>\n",
       "      <td>...</td>\n",
       "      <td>...</td>\n",
       "      <td>...</td>\n",
       "    </tr>\n",
       "    <tr>\n",
       "      <th>2571</th>\n",
       "      <td>0.578</td>\n",
       "      <td>10</td>\n",
       "      <td>0.443</td>\n",
       "      <td>0.01460</td>\n",
       "      <td>0.0000</td>\n",
       "      <td>0.1190</td>\n",
       "      <td>0</td>\n",
       "    </tr>\n",
       "    <tr>\n",
       "      <th>2572</th>\n",
       "      <td>0.511</td>\n",
       "      <td>8</td>\n",
       "      <td>0.435</td>\n",
       "      <td>0.01010</td>\n",
       "      <td>0.0000</td>\n",
       "      <td>0.1100</td>\n",
       "      <td>0</td>\n",
       "    </tr>\n",
       "    <tr>\n",
       "      <th>2573</th>\n",
       "      <td>0.555</td>\n",
       "      <td>8</td>\n",
       "      <td>0.391</td>\n",
       "      <td>0.00189</td>\n",
       "      <td>0.0000</td>\n",
       "      <td>0.1100</td>\n",
       "      <td>0</td>\n",
       "    </tr>\n",
       "    <tr>\n",
       "      <th>2574</th>\n",
       "      <td>0.534</td>\n",
       "      <td>1</td>\n",
       "      <td>0.317</td>\n",
       "      <td>0.00531</td>\n",
       "      <td>0.0000</td>\n",
       "      <td>0.1110</td>\n",
       "      <td>0</td>\n",
       "    </tr>\n",
       "    <tr>\n",
       "      <th>2575</th>\n",
       "      <td>0.558</td>\n",
       "      <td>1</td>\n",
       "      <td>0.506</td>\n",
       "      <td>0.06630</td>\n",
       "      <td>0.0000</td>\n",
       "      <td>0.0833</td>\n",
       "      <td>0</td>\n",
       "    </tr>\n",
       "  </tbody>\n",
       "</table>\n",
       "<p>2576 rows × 7 columns</p>\n",
       "</div>"
      ],
      "text/plain": [
       "      energy  key  speechiness  acousticness  instrumentalness  liveness  \\\n",
       "0      0.281    0        0.466       0.00480            0.0595    0.1220   \n",
       "1      0.355    8        0.514       0.57300            0.0000    0.0735   \n",
       "2      0.331    3        0.383       0.86500            0.0000    0.1050   \n",
       "3      0.360    4        0.455       0.76400            0.0000    0.1810   \n",
       "4      0.275    6        0.694       0.41400            0.0000    0.0776   \n",
       "...      ...  ...          ...           ...               ...       ...   \n",
       "2571   0.578   10        0.443       0.01460            0.0000    0.1190   \n",
       "2572   0.511    8        0.435       0.01010            0.0000    0.1100   \n",
       "2573   0.555    8        0.391       0.00189            0.0000    0.1100   \n",
       "2574   0.534    1        0.317       0.00531            0.0000    0.1110   \n",
       "2575   0.558    1        0.506       0.06630            0.0000    0.0833   \n",
       "\n",
       "      popularity  \n",
       "0              0  \n",
       "1              0  \n",
       "2              0  \n",
       "3              0  \n",
       "4              0  \n",
       "...          ...  \n",
       "2571           0  \n",
       "2572           0  \n",
       "2573           0  \n",
       "2574           0  \n",
       "2575           0  \n",
       "\n",
       "[2576 rows x 7 columns]"
      ]
     },
     "execution_count": 469,
     "metadata": {},
     "output_type": "execute_result"
    }
   ],
   "source": [
    "unpopular"
   ]
  },
  {
   "cell_type": "code",
   "execution_count": 470,
   "id": "84093741",
   "metadata": {},
   "outputs": [],
   "source": [
    "#The data is not balanced but it's already transformed"
   ]
  },
  {
   "cell_type": "code",
   "execution_count": 471,
   "id": "0d201d3d",
   "metadata": {},
   "outputs": [],
   "source": [
    "tiktok['popularity'] = 1 #adding values to the future target variable 0= Not popular 1=popular"
   ]
  },
  {
   "cell_type": "code",
   "execution_count": 472,
   "id": "c5faa8e5",
   "metadata": {},
   "outputs": [
    {
     "data": {
      "text/html": [
       "<div>\n",
       "<style scoped>\n",
       "    .dataframe tbody tr th:only-of-type {\n",
       "        vertical-align: middle;\n",
       "    }\n",
       "\n",
       "    .dataframe tbody tr th {\n",
       "        vertical-align: top;\n",
       "    }\n",
       "\n",
       "    .dataframe thead th {\n",
       "        text-align: right;\n",
       "    }\n",
       "</style>\n",
       "<table border=\"1\" class=\"dataframe\">\n",
       "  <thead>\n",
       "    <tr style=\"text-align: right;\">\n",
       "      <th></th>\n",
       "      <th>energy</th>\n",
       "      <th>key</th>\n",
       "      <th>speechiness</th>\n",
       "      <th>acousticness</th>\n",
       "      <th>instrumentalness</th>\n",
       "      <th>liveness</th>\n",
       "      <th>popularity</th>\n",
       "    </tr>\n",
       "  </thead>\n",
       "  <tbody>\n",
       "    <tr>\n",
       "      <th>0</th>\n",
       "      <td>0.955</td>\n",
       "      <td>4</td>\n",
       "      <td>0.0798</td>\n",
       "      <td>0.002210</td>\n",
       "      <td>0.000003</td>\n",
       "      <td>0.4860</td>\n",
       "      <td>1</td>\n",
       "    </tr>\n",
       "    <tr>\n",
       "      <th>1</th>\n",
       "      <td>0.845</td>\n",
       "      <td>4</td>\n",
       "      <td>0.2530</td>\n",
       "      <td>0.759000</td>\n",
       "      <td>0.232000</td>\n",
       "      <td>0.1000</td>\n",
       "      <td>1</td>\n",
       "    </tr>\n",
       "    <tr>\n",
       "      <th>2</th>\n",
       "      <td>0.792</td>\n",
       "      <td>2</td>\n",
       "      <td>0.0668</td>\n",
       "      <td>0.726000</td>\n",
       "      <td>0.000006</td>\n",
       "      <td>0.1220</td>\n",
       "      <td>1</td>\n",
       "    </tr>\n",
       "    <tr>\n",
       "      <th>3</th>\n",
       "      <td>0.678</td>\n",
       "      <td>9</td>\n",
       "      <td>0.1090</td>\n",
       "      <td>0.066900</td>\n",
       "      <td>0.000000</td>\n",
       "      <td>0.2740</td>\n",
       "      <td>1</td>\n",
       "    </tr>\n",
       "    <tr>\n",
       "      <th>4</th>\n",
       "      <td>0.983</td>\n",
       "      <td>5</td>\n",
       "      <td>0.0855</td>\n",
       "      <td>0.038000</td>\n",
       "      <td>0.000006</td>\n",
       "      <td>0.1830</td>\n",
       "      <td>1</td>\n",
       "    </tr>\n",
       "    <tr>\n",
       "      <th>...</th>\n",
       "      <td>...</td>\n",
       "      <td>...</td>\n",
       "      <td>...</td>\n",
       "      <td>...</td>\n",
       "      <td>...</td>\n",
       "      <td>...</td>\n",
       "      <td>...</td>\n",
       "    </tr>\n",
       "    <tr>\n",
       "      <th>963</th>\n",
       "      <td>0.740</td>\n",
       "      <td>4</td>\n",
       "      <td>0.0284</td>\n",
       "      <td>0.011500</td>\n",
       "      <td>0.006780</td>\n",
       "      <td>0.1670</td>\n",
       "      <td>1</td>\n",
       "    </tr>\n",
       "    <tr>\n",
       "      <th>964</th>\n",
       "      <td>0.692</td>\n",
       "      <td>1</td>\n",
       "      <td>0.0259</td>\n",
       "      <td>0.015700</td>\n",
       "      <td>0.000000</td>\n",
       "      <td>0.0864</td>\n",
       "      <td>1</td>\n",
       "    </tr>\n",
       "    <tr>\n",
       "      <th>965</th>\n",
       "      <td>0.673</td>\n",
       "      <td>0</td>\n",
       "      <td>0.1750</td>\n",
       "      <td>0.000307</td>\n",
       "      <td>0.000002</td>\n",
       "      <td>0.0930</td>\n",
       "      <td>1</td>\n",
       "    </tr>\n",
       "    <tr>\n",
       "      <th>966</th>\n",
       "      <td>0.558</td>\n",
       "      <td>4</td>\n",
       "      <td>0.0299</td>\n",
       "      <td>0.078900</td>\n",
       "      <td>0.000342</td>\n",
       "      <td>0.1250</td>\n",
       "      <td>1</td>\n",
       "    </tr>\n",
       "    <tr>\n",
       "      <th>967</th>\n",
       "      <td>0.611</td>\n",
       "      <td>9</td>\n",
       "      <td>0.1220</td>\n",
       "      <td>0.076600</td>\n",
       "      <td>0.000025</td>\n",
       "      <td>0.0684</td>\n",
       "      <td>1</td>\n",
       "    </tr>\n",
       "  </tbody>\n",
       "</table>\n",
       "<p>968 rows × 7 columns</p>\n",
       "</div>"
      ],
      "text/plain": [
       "     energy  key  speechiness  acousticness  instrumentalness  liveness  \\\n",
       "0     0.955    4       0.0798      0.002210          0.000003    0.4860   \n",
       "1     0.845    4       0.2530      0.759000          0.232000    0.1000   \n",
       "2     0.792    2       0.0668      0.726000          0.000006    0.1220   \n",
       "3     0.678    9       0.1090      0.066900          0.000000    0.2740   \n",
       "4     0.983    5       0.0855      0.038000          0.000006    0.1830   \n",
       "..      ...  ...          ...           ...               ...       ...   \n",
       "963   0.740    4       0.0284      0.011500          0.006780    0.1670   \n",
       "964   0.692    1       0.0259      0.015700          0.000000    0.0864   \n",
       "965   0.673    0       0.1750      0.000307          0.000002    0.0930   \n",
       "966   0.558    4       0.0299      0.078900          0.000342    0.1250   \n",
       "967   0.611    9       0.1220      0.076600          0.000025    0.0684   \n",
       "\n",
       "     popularity  \n",
       "0             1  \n",
       "1             1  \n",
       "2             1  \n",
       "3             1  \n",
       "4             1  \n",
       "..          ...  \n",
       "963           1  \n",
       "964           1  \n",
       "965           1  \n",
       "966           1  \n",
       "967           1  \n",
       "\n",
       "[968 rows x 7 columns]"
      ]
     },
     "execution_count": 472,
     "metadata": {},
     "output_type": "execute_result"
    }
   ],
   "source": [
    "tiktok"
   ]
  },
  {
   "cell_type": "code",
   "execution_count": 473,
   "id": "36c81b8b",
   "metadata": {},
   "outputs": [],
   "source": [
    "# X-Y Definition"
   ]
  },
  {
   "cell_type": "code",
   "execution_count": 474,
   "id": "bdc22ca5",
   "metadata": {},
   "outputs": [
    {
     "data": {
      "text/plain": [
       "energy              0\n",
       "key                 0\n",
       "speechiness         0\n",
       "acousticness        0\n",
       "instrumentalness    0\n",
       "liveness            0\n",
       "popularity          0\n",
       "dtype: int64"
      ]
     },
     "execution_count": 474,
     "metadata": {},
     "output_type": "execute_result"
    }
   ],
   "source": [
    "X = pd.concat((tiktok, unpopular), axis=0)\n",
    "X.isna().sum()"
   ]
  },
  {
   "cell_type": "code",
   "execution_count": 475,
   "id": "048ccedc",
   "metadata": {},
   "outputs": [],
   "source": [
    "X.to_csv('cleaned_data.csv')"
   ]
  },
  {
   "cell_type": "code",
   "execution_count": 476,
   "id": "e72151df",
   "metadata": {},
   "outputs": [],
   "source": [
    "Y = pd.DataFrame(X['popularity']) #defying Y"
   ]
  },
  {
   "cell_type": "code",
   "execution_count": 477,
   "id": "2dd4d19f",
   "metadata": {},
   "outputs": [],
   "source": [
    "X = X.drop(['popularity'],axis=1) #droping Y from X"
   ]
  },
  {
   "cell_type": "code",
   "execution_count": 478,
   "id": "0ea78b86",
   "metadata": {},
   "outputs": [],
   "source": [
    "# Tried StandardScaler, Normalizer & MinMaxScaler - this was the best option\n",
    "from sklearn.preprocessing import MinMaxScaler\n",
    "transformer = MinMaxScaler().fit(X)\n",
    "x_min_max = transformer.transform(X)\n",
    "X = pd.DataFrame(x_min_max)"
   ]
  },
  {
   "cell_type": "code",
   "execution_count": 479,
   "id": "b5043be8",
   "metadata": {},
   "outputs": [],
   "source": [
    "# Applying logistic regression model"
   ]
  },
  {
   "cell_type": "code",
   "execution_count": 480,
   "id": "7c0fa536",
   "metadata": {},
   "outputs": [],
   "source": [
    "from sklearn.model_selection import train_test_split\n",
    "\n",
    "X_train,X_test,y_train,y_test = train_test_split(X,Y,test_size = 0.4)"
   ]
  },
  {
   "cell_type": "code",
   "execution_count": 481,
   "id": "359d85c6",
   "metadata": {},
   "outputs": [
    {
     "name": "stderr",
     "output_type": "stream",
     "text": [
      "/Users/diogocapitao/opt/anaconda3/lib/python3.9/site-packages/sklearn/utils/validation.py:993: DataConversionWarning: A column-vector y was passed when a 1d array was expected. Please change the shape of y to (n_samples, ), for example using ravel().\n",
      "  y = column_or_1d(y, warn=True)\n"
     ]
    }
   ],
   "source": [
    "from sklearn.linear_model import LogisticRegression\n",
    "\n",
    "classification = LogisticRegression().fit(X_train,y_train)"
   ]
  },
  {
   "cell_type": "code",
   "execution_count": 482,
   "id": "1be7e797",
   "metadata": {},
   "outputs": [
    {
     "data": {
      "text/plain": [
       "array([0, 0, 0, ..., 0, 0, 0])"
      ]
     },
     "execution_count": 482,
     "metadata": {},
     "output_type": "execute_result"
    }
   ],
   "source": [
    "predictions = classification.predict(X_test)\n",
    "predictions"
   ]
  },
  {
   "cell_type": "code",
   "execution_count": 483,
   "id": "e33a663b",
   "metadata": {},
   "outputs": [
    {
     "data": {
      "text/plain": [
       "0.7383638928067701"
      ]
     },
     "execution_count": 483,
     "metadata": {},
     "output_type": "execute_result"
    }
   ],
   "source": [
    "classification.score(X_test,y_test)"
   ]
  },
  {
   "cell_type": "code",
   "execution_count": 484,
   "id": "dad56351",
   "metadata": {},
   "outputs": [
    {
     "data": {
      "text/plain": [
       "popularity\n",
       "0             1049\n",
       "1              369\n",
       "dtype: int64"
      ]
     },
     "execution_count": 484,
     "metadata": {},
     "output_type": "execute_result"
    }
   ],
   "source": [
    "y_test.value_counts()"
   ]
  },
  {
   "cell_type": "code",
   "execution_count": 485,
   "id": "8efd016e",
   "metadata": {},
   "outputs": [
    {
     "data": {
      "text/plain": [
       "0    1416\n",
       "1       2\n",
       "dtype: int64"
      ]
     },
     "execution_count": 485,
     "metadata": {},
     "output_type": "execute_result"
    }
   ],
   "source": [
    "pd.Series(predictions).value_counts()"
   ]
  },
  {
   "cell_type": "code",
   "execution_count": 486,
   "id": "75d5e92c",
   "metadata": {},
   "outputs": [
    {
     "data": {
      "image/png": "[encoded data removed]",
      "text/plain": [
       "<Figure size 640x480 with 2 Axes>"
      ]
     },
     "metadata": {},
     "output_type": "display_data"
    }
   ],
   "source": [
    "cm = confusion_matrix(y_test, predictions, labels=classification.classes_)\n",
    "disp = ConfusionMatrixDisplay(confusion_matrix=cm,\n",
    "                              display_labels=classification.classes_)\n",
    "disp.plot()\n",
    "\n",
    "plt.show()"
   ]
  },
  {
   "cell_type": "code",
   "execution_count": 487,
   "id": "d8a8495f",
   "metadata": {},
   "outputs": [
    {
     "data": {
      "text/plain": [
       "popularity\n",
       "0             2576\n",
       "1              968\n",
       "dtype: int64"
      ]
     },
     "execution_count": 487,
     "metadata": {},
     "output_type": "execute_result"
    }
   ],
   "source": [
    "Y.value_counts()"
   ]
  },
  {
   "cell_type": "code",
   "execution_count": 488,
   "id": "9bf85a42",
   "metadata": {},
   "outputs": [
    {
     "data": {
      "text/plain": [
       "(3544, 6)"
      ]
     },
     "execution_count": 488,
     "metadata": {},
     "output_type": "execute_result"
    }
   ],
   "source": [
    "X.shape"
   ]
  },
  {
   "cell_type": "code",
   "execution_count": 489,
   "id": "d6b44964",
   "metadata": {},
   "outputs": [],
   "source": [
    "# trying balance data to get better results\n",
    "from imblearn.over_sampling import SMOTE\n",
    "from imblearn.under_sampling import RandomUnderSampler\n",
    "from imblearn.over_sampling import RandomOverSampler"
   ]
  },
  {
   "cell_type": "code",
   "execution_count": 490,
   "id": "3954e852",
   "metadata": {},
   "outputs": [],
   "source": [
    "ros = RandomOverSampler()\n",
    "X_ros, y_ros = ros.fit_resample(X, Y)"
   ]
  },
  {
   "cell_type": "code",
   "execution_count": 491,
   "id": "4d91d69f",
   "metadata": {},
   "outputs": [
    {
     "data": {
      "text/plain": [
       "popularity\n",
       "0             2576\n",
       "1             2576\n",
       "dtype: int64"
      ]
     },
     "execution_count": 491,
     "metadata": {},
     "output_type": "execute_result"
    }
   ],
   "source": [
    "y_ros.value_counts()"
   ]
  },
  {
   "cell_type": "code",
   "execution_count": 492,
   "id": "2680a29a",
   "metadata": {},
   "outputs": [],
   "source": [
    "X_train,X_test,y_train,y_test = train_test_split(X_ros,y_ros,test_size = 0.4)"
   ]
  },
  {
   "cell_type": "code",
   "execution_count": 493,
   "id": "ebd32dd5",
   "metadata": {},
   "outputs": [
    {
     "name": "stderr",
     "output_type": "stream",
     "text": [
      "/Users/diogocapitao/opt/anaconda3/lib/python3.9/site-packages/sklearn/utils/validation.py:993: DataConversionWarning: A column-vector y was passed when a 1d array was expected. Please change the shape of y to (n_samples, ), for example using ravel().\n",
      "  y = column_or_1d(y, warn=True)\n"
     ]
    }
   ],
   "source": [
    "classification = LogisticRegression().fit(X_train,y_train)"
   ]
  },
  {
   "cell_type": "code",
   "execution_count": 494,
   "id": "282cc8fd",
   "metadata": {},
   "outputs": [
    {
     "data": {
      "text/plain": [
       "array([0, 1, 1, ..., 1, 0, 1])"
      ]
     },
     "execution_count": 494,
     "metadata": {},
     "output_type": "execute_result"
    }
   ],
   "source": [
    "predictions = classification.predict(X_test)\n",
    "predictions"
   ]
  },
  {
   "cell_type": "code",
   "execution_count": 495,
   "id": "57b0a268",
   "metadata": {},
   "outputs": [
    {
     "data": {
      "text/plain": [
       "0.6477438136826783"
      ]
     },
     "execution_count": 495,
     "metadata": {},
     "output_type": "execute_result"
    }
   ],
   "source": [
    "classification.score(X_test,y_test)"
   ]
  },
  {
   "cell_type": "code",
   "execution_count": 496,
   "id": "afd695b6",
   "metadata": {},
   "outputs": [
    {
     "data": {
      "image/png": "[encoded data removed]",
      "text/plain": [
       "<Figure size 640x480 with 2 Axes>"
      ]
     },
     "metadata": {},
     "output_type": "display_data"
    }
   ],
   "source": [
    "cm = confusion_matrix(y_test, predictions, labels=classification.classes_)\n",
    "disp = ConfusionMatrixDisplay(confusion_matrix=cm,\n",
    "                              display_labels=classification.classes_)\n",
    "disp.plot()\n",
    "\n",
    "plt.show()"
   ]
  },
  {
   "cell_type": "code",
   "execution_count": 497,
   "id": "c032e670",
   "metadata": {},
   "outputs": [
    {
     "data": {
      "text/plain": [
       "1    1281\n",
       "0     780\n",
       "dtype: int64"
      ]
     },
     "execution_count": 497,
     "metadata": {},
     "output_type": "execute_result"
    }
   ],
   "source": [
    "pd.Series(predictions).value_counts()"
   ]
  },
  {
   "cell_type": "code",
   "execution_count": 498,
   "id": "a73fca26",
   "metadata": {},
   "outputs": [],
   "source": [
    "#apllyiing KNN"
   ]
  },
  {
   "cell_type": "code",
   "execution_count": 499,
   "id": "3a13a7b7",
   "metadata": {},
   "outputs": [],
   "source": [
    "from sklearn.neighbors import KNeighborsRegressor"
   ]
  },
  {
   "cell_type": "code",
   "execution_count": 500,
   "id": "74e8b107",
   "metadata": {},
   "outputs": [
    {
     "data": {
      "text/plain": [
       "KNeighborsRegressor(n_neighbors=4)"
      ]
     },
     "execution_count": 500,
     "metadata": {},
     "output_type": "execute_result"
    }
   ],
   "source": [
    "kmodel = KNeighborsRegressor(n_neighbors=4)\n",
    "kmodel.fit(X_train,y_train)"
   ]
  },
  {
   "cell_type": "code",
   "execution_count": 501,
   "id": "21382cc3",
   "metadata": {},
   "outputs": [
    {
     "data": {
      "text/plain": [
       "0.19702968723512448"
      ]
     },
     "execution_count": 501,
     "metadata": {},
     "output_type": "execute_result"
    }
   ],
   "source": [
    "predictions = kmodel.predict(X_test)\n",
    "kmodel.score(X_test,y_test)"
   ]
  },
  {
   "cell_type": "code",
   "execution_count": 502,
   "id": "a9886871",
   "metadata": {},
   "outputs": [],
   "source": [
    "tiktok.to_csv('tiktok_cleaned.csv')"
   ]
  },
  {
   "cell_type": "code",
   "execution_count": 503,
   "id": "090de0ca",
   "metadata": {},
   "outputs": [],
   "source": [
    "unpopular.to_csv('unpopular_cleaned.csv')"
   ]
  },
  {
   "cell_type": "code",
   "execution_count": 504,
   "id": "ed9af92f",
   "metadata": {},
   "outputs": [],
   "source": [
    "# The results from KNN are not good and the ones from the Logistic Regressions are but the model can't predict as I wish"
   ]
  },
  {
   "cell_type": "code",
   "execution_count": 505,
   "id": "7a385ba4",
   "metadata": {},
   "outputs": [
    {
     "data": {
      "text/html": [
       "<div>\n",
       "<style scoped>\n",
       "    .dataframe tbody tr th:only-of-type {\n",
       "        vertical-align: middle;\n",
       "    }\n",
       "\n",
       "    .dataframe tbody tr th {\n",
       "        vertical-align: top;\n",
       "    }\n",
       "\n",
       "    .dataframe thead th {\n",
       "        text-align: right;\n",
       "    }\n",
       "</style>\n",
       "<table border=\"1\" class=\"dataframe\">\n",
       "  <thead>\n",
       "    <tr style=\"text-align: right;\">\n",
       "      <th></th>\n",
       "      <th>energy</th>\n",
       "      <th>key</th>\n",
       "      <th>speechiness</th>\n",
       "      <th>acousticness</th>\n",
       "      <th>instrumentalness</th>\n",
       "      <th>liveness</th>\n",
       "      <th>popularity</th>\n",
       "    </tr>\n",
       "  </thead>\n",
       "  <tbody>\n",
       "    <tr>\n",
       "      <th>0</th>\n",
       "      <td>0.281</td>\n",
       "      <td>0</td>\n",
       "      <td>0.466</td>\n",
       "      <td>0.00480</td>\n",
       "      <td>0.0595</td>\n",
       "      <td>0.1220</td>\n",
       "      <td>0</td>\n",
       "    </tr>\n",
       "    <tr>\n",
       "      <th>1</th>\n",
       "      <td>0.355</td>\n",
       "      <td>8</td>\n",
       "      <td>0.514</td>\n",
       "      <td>0.57300</td>\n",
       "      <td>0.0000</td>\n",
       "      <td>0.0735</td>\n",
       "      <td>0</td>\n",
       "    </tr>\n",
       "    <tr>\n",
       "      <th>2</th>\n",
       "      <td>0.331</td>\n",
       "      <td>3</td>\n",
       "      <td>0.383</td>\n",
       "      <td>0.86500</td>\n",
       "      <td>0.0000</td>\n",
       "      <td>0.1050</td>\n",
       "      <td>0</td>\n",
       "    </tr>\n",
       "    <tr>\n",
       "      <th>3</th>\n",
       "      <td>0.360</td>\n",
       "      <td>4</td>\n",
       "      <td>0.455</td>\n",
       "      <td>0.76400</td>\n",
       "      <td>0.0000</td>\n",
       "      <td>0.1810</td>\n",
       "      <td>0</td>\n",
       "    </tr>\n",
       "    <tr>\n",
       "      <th>4</th>\n",
       "      <td>0.275</td>\n",
       "      <td>6</td>\n",
       "      <td>0.694</td>\n",
       "      <td>0.41400</td>\n",
       "      <td>0.0000</td>\n",
       "      <td>0.0776</td>\n",
       "      <td>0</td>\n",
       "    </tr>\n",
       "    <tr>\n",
       "      <th>...</th>\n",
       "      <td>...</td>\n",
       "      <td>...</td>\n",
       "      <td>...</td>\n",
       "      <td>...</td>\n",
       "      <td>...</td>\n",
       "      <td>...</td>\n",
       "      <td>...</td>\n",
       "    </tr>\n",
       "    <tr>\n",
       "      <th>2571</th>\n",
       "      <td>0.578</td>\n",
       "      <td>10</td>\n",
       "      <td>0.443</td>\n",
       "      <td>0.01460</td>\n",
       "      <td>0.0000</td>\n",
       "      <td>0.1190</td>\n",
       "      <td>0</td>\n",
       "    </tr>\n",
       "    <tr>\n",
       "      <th>2572</th>\n",
       "      <td>0.511</td>\n",
       "      <td>8</td>\n",
       "      <td>0.435</td>\n",
       "      <td>0.01010</td>\n",
       "      <td>0.0000</td>\n",
       "      <td>0.1100</td>\n",
       "      <td>0</td>\n",
       "    </tr>\n",
       "    <tr>\n",
       "      <th>2573</th>\n",
       "      <td>0.555</td>\n",
       "      <td>8</td>\n",
       "      <td>0.391</td>\n",
       "      <td>0.00189</td>\n",
       "      <td>0.0000</td>\n",
       "      <td>0.1100</td>\n",
       "      <td>0</td>\n",
       "    </tr>\n",
       "    <tr>\n",
       "      <th>2574</th>\n",
       "      <td>0.534</td>\n",
       "      <td>1</td>\n",
       "      <td>0.317</td>\n",
       "      <td>0.00531</td>\n",
       "      <td>0.0000</td>\n",
       "      <td>0.1110</td>\n",
       "      <td>0</td>\n",
       "    </tr>\n",
       "    <tr>\n",
       "      <th>2575</th>\n",
       "      <td>0.558</td>\n",
       "      <td>1</td>\n",
       "      <td>0.506</td>\n",
       "      <td>0.06630</td>\n",
       "      <td>0.0000</td>\n",
       "      <td>0.0833</td>\n",
       "      <td>0</td>\n",
       "    </tr>\n",
       "  </tbody>\n",
       "</table>\n",
       "<p>2576 rows × 7 columns</p>\n",
       "</div>"
      ],
      "text/plain": [
       "      energy  key  speechiness  acousticness  instrumentalness  liveness  \\\n",
       "0      0.281    0        0.466       0.00480            0.0595    0.1220   \n",
       "1      0.355    8        0.514       0.57300            0.0000    0.0735   \n",
       "2      0.331    3        0.383       0.86500            0.0000    0.1050   \n",
       "3      0.360    4        0.455       0.76400            0.0000    0.1810   \n",
       "4      0.275    6        0.694       0.41400            0.0000    0.0776   \n",
       "...      ...  ...          ...           ...               ...       ...   \n",
       "2571   0.578   10        0.443       0.01460            0.0000    0.1190   \n",
       "2572   0.511    8        0.435       0.01010            0.0000    0.1100   \n",
       "2573   0.555    8        0.391       0.00189            0.0000    0.1100   \n",
       "2574   0.534    1        0.317       0.00531            0.0000    0.1110   \n",
       "2575   0.558    1        0.506       0.06630            0.0000    0.0833   \n",
       "\n",
       "      popularity  \n",
       "0              0  \n",
       "1              0  \n",
       "2              0  \n",
       "3              0  \n",
       "4              0  \n",
       "...          ...  \n",
       "2571           0  \n",
       "2572           0  \n",
       "2573           0  \n",
       "2574           0  \n",
       "2575           0  \n",
       "\n",
       "[2576 rows x 7 columns]"
      ]
     },
     "execution_count": 505,
     "metadata": {},
     "output_type": "execute_result"
    }
   ],
   "source": [
    "#hypotesis test\n",
    "unpopular\n",
    "unpopular"
   ]
  },
  {
   "cell_type": "code",
   "execution_count": 506,
   "id": "e71d3c89",
   "metadata": {},
   "outputs": [],
   "source": [
    "#Null Hypothesis: There is no difference between unpopular Spotify songs and Tiktok songs on Tiktok.\n",
    "\n",
    "#H0: There is no difference in average test scores between unpopular Spotify songs and TikTok songs\n"
   ]
  },
  {
   "cell_type": "code",
   "execution_count": 507,
   "id": "9d7e8cc5",
   "metadata": {},
   "outputs": [
    {
     "name": "stdout",
     "output_type": "stream",
     "text": [
      "[-12.87784594  -0.93204925   2.98242335  10.6025428   15.91852064\n",
      "   2.61614496         -inf] [4.03252825e-37 3.51374599e-01 2.87925631e-03 7.05487231e-26\n",
      " 3.69423199e-55 8.93063924e-03 0.00000000e+00]\n"
     ]
    },
    {
     "name": "stderr",
     "output_type": "stream",
     "text": [
      "/var/folders/tj/3p22v50d6ns8hpw1fn28jhmr0000gn/T/ipykernel_63026/3035874606.py:3: RuntimeWarning: Precision loss occurred in moment calculation due to catastrophic cancellation. This occurs when the data are nearly identical. Results may be unreliable.\n",
      "  statistic, pvalue = ttest_ind(unpopular, tiktok)\n"
     ]
    }
   ],
   "source": [
    "from scipy.stats import ttest_ind\n",
    "\n",
    "statistic, pvalue = ttest_ind(unpopular, tiktok)\n",
    "\n",
    "print(statistic, pvalue)"
   ]
  },
  {
   "cell_type": "code",
   "execution_count": 508,
   "id": "894d56fd",
   "metadata": {},
   "outputs": [
    {
     "data": {
      "text/plain": [
       "array([4.03252825e-37, 3.51374599e-01, 2.87925631e-03, 7.05487231e-26,\n",
       "       3.69423199e-55, 8.93063924e-03, 0.00000000e+00])"
      ]
     },
     "execution_count": 508,
     "metadata": {},
     "output_type": "execute_result"
    }
   ],
   "source": [
    "pvalue"
   ]
  },
  {
   "cell_type": "code",
   "execution_count": 509,
   "id": "5de4939c",
   "metadata": {},
   "outputs": [
    {
     "data": {
      "text/plain": [
       "array([-12.87784594,  -0.93204925,   2.98242335,  10.6025428 ,\n",
       "        15.91852064,   2.61614496,         -inf])"
      ]
     },
     "execution_count": 509,
     "metadata": {},
     "output_type": "execute_result"
    }
   ],
   "source": [
    "statistic"
   ]
  },
  {
   "cell_type": "code",
   "execution_count": 510,
   "id": "31d16d06",
   "metadata": {},
   "outputs": [],
   "source": [
    "#results of the study are not statistically significant and there is not enough evidence to reject the null hypothesis. \n",
    "#This means that the results of the study are not reliable and may have been obtained due to chance."
   ]
  },
  {
   "cell_type": "code",
   "execution_count": 511,
   "id": "3cd09d77",
   "metadata": {},
   "outputs": [
    {
     "data": {
      "text/plain": [
       "0.642242561983473"
      ]
     },
     "execution_count": 511,
     "metadata": {},
     "output_type": "execute_result"
    }
   ],
   "source": [
    "#checking for differences between songs (average) for insights\n",
    "tiktok['energy'].mean()"
   ]
  },
  {
   "cell_type": "code",
   "execution_count": 512,
   "id": "272f08ac",
   "metadata": {},
   "outputs": [
    {
     "data": {
      "text/plain": [
       "0.5277533075698759"
      ]
     },
     "execution_count": 512,
     "metadata": {},
     "output_type": "execute_result"
    }
   ],
   "source": [
    "unpopular['energy'].mean()"
   ]
  },
  {
   "cell_type": "code",
   "execution_count": 513,
   "id": "5ec592c9",
   "metadata": {},
   "outputs": [
    {
     "data": {
      "text/plain": [
       "5.288223140495868"
      ]
     },
     "execution_count": 513,
     "metadata": {},
     "output_type": "execute_result"
    }
   ],
   "source": [
    "tiktok['key'].mean()"
   ]
  },
  {
   "cell_type": "code",
   "execution_count": 514,
   "id": "1adf0bdc",
   "metadata": {},
   "outputs": [
    {
     "data": {
      "text/plain": [
       "5.161878881987578"
      ]
     },
     "execution_count": 514,
     "metadata": {},
     "output_type": "execute_result"
    }
   ],
   "source": [
    "unpopular['key'].mean()"
   ]
  },
  {
   "cell_type": "code",
   "execution_count": 515,
   "id": "f92ae479",
   "metadata": {},
   "outputs": [
    {
     "data": {
      "text/plain": [
       "0.13004555785123956"
      ]
     },
     "execution_count": 515,
     "metadata": {},
     "output_type": "execute_result"
    }
   ],
   "source": [
    "tiktok['speechiness'].mean()"
   ]
  },
  {
   "cell_type": "code",
   "execution_count": 516,
   "id": "03788962",
   "metadata": {},
   "outputs": [
    {
     "data": {
      "text/plain": [
       "0.14878078416149043"
      ]
     },
     "execution_count": 516,
     "metadata": {},
     "output_type": "execute_result"
    }
   ],
   "source": [
    "unpopular['speechiness'].mean()"
   ]
  },
  {
   "cell_type": "code",
   "execution_count": 517,
   "id": "a8e1ce38",
   "metadata": {},
   "outputs": [
    {
     "data": {
      "text/plain": [
       "0.22036039597107432"
      ]
     },
     "execution_count": 517,
     "metadata": {},
     "output_type": "execute_result"
    }
   ],
   "source": [
    "tiktok['acousticness'].mean()"
   ]
  },
  {
   "cell_type": "code",
   "execution_count": 518,
   "id": "e90abbe3",
   "metadata": {},
   "outputs": [
    {
     "data": {
      "text/plain": [
       "0.347723687173913"
      ]
     },
     "execution_count": 518,
     "metadata": {},
     "output_type": "execute_result"
    }
   ],
   "source": [
    "unpopular['acousticness'].mean()"
   ]
  },
  {
   "cell_type": "code",
   "execution_count": 519,
   "id": "99bd646e",
   "metadata": {},
   "outputs": [
    {
     "data": {
      "text/plain": [
       "0.023384849504132253"
      ]
     },
     "execution_count": 519,
     "metadata": {},
     "output_type": "execute_result"
    }
   ],
   "source": [
    "tiktok['instrumentalness'].mean()"
   ]
  },
  {
   "cell_type": "code",
   "execution_count": 520,
   "id": "0c5c495c",
   "metadata": {},
   "outputs": [
    {
     "data": {
      "text/plain": [
       "0.2082284916149067"
      ]
     },
     "execution_count": 520,
     "metadata": {},
     "output_type": "execute_result"
    }
   ],
   "source": [
    "unpopular['instrumentalness'].mean()"
   ]
  },
  {
   "cell_type": "code",
   "execution_count": 521,
   "id": "871300b6",
   "metadata": {},
   "outputs": [
    {
     "data": {
      "text/plain": [
       "0.18471198347107406"
      ]
     },
     "execution_count": 521,
     "metadata": {},
     "output_type": "execute_result"
    }
   ],
   "source": [
    "tiktok['liveness'].mean()"
   ]
  },
  {
   "cell_type": "code",
   "execution_count": 522,
   "id": "a15e036f",
   "metadata": {},
   "outputs": [
    {
     "data": {
      "text/plain": [
       "0.20169747670807459"
      ]
     },
     "execution_count": 522,
     "metadata": {},
     "output_type": "execute_result"
    }
   ],
   "source": [
    "unpopular['liveness'].mean()"
   ]
  },
  {
   "cell_type": "code",
   "execution_count": 528,
   "id": "bf7619a5",
   "metadata": {},
   "outputs": [
    {
     "data": {
      "text/plain": [
       "11"
      ]
     },
     "execution_count": 528,
     "metadata": {},
     "output_type": "execute_result"
    }
   ],
   "source": [
    "unpopular['key'].max()"
   ]
  },
  {
   "cell_type": "code",
   "execution_count": null,
   "id": "95f8fc9f",
   "metadata": {},
   "outputs": [],
   "source": []
  },
  {
   "cell_type": "code",
   "execution_count": null,
   "id": "6b2072f3",
   "metadata": {},
   "outputs": [],
   "source": []
  },
  {
   "cell_type": "code",
   "execution_count": null,
   "id": "b49f1f47",
   "metadata": {},
   "outputs": [],
   "source": []
  },
  {
   "cell_type": "code",
   "execution_count": null,
   "id": "0b5148fd",
   "metadata": {},
   "outputs": [],
   "source": []
  },
  {
   "cell_type": "code",
   "execution_count": null,
   "id": "edbfe3c5",
   "metadata": {},
   "outputs": [],
   "source": []
  },
  {
   "cell_type": "code",
   "execution_count": null,
   "id": "23c86dfa",
   "metadata": {},
   "outputs": [],
   "source": []
  }
 ],
 "metadata": {
  "kernelspec": {
   "display_name": "Python 3 (ipykernel)",
   "language": "python",
   "name": "python3"
  },
  "language_info": {
   "codemirror_mode": {
    "name": "ipython",
    "version": 3
   },
   "file_extension": ".py",
   "mimetype": "text/x-python",
   "name": "python",
   "nbconvert_exporter": "python",
   "pygments_lexer": "ipython3",
   "version": "3.9.13"
  }
 },
 "nbformat": 4,
 "nbformat_minor": 5
}
