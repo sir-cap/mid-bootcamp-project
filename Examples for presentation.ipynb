{
 "cells": [
  {
   "cell_type": "code",
   "execution_count": 1,
   "id": "744b475e",
   "metadata": {},
   "outputs": [],
   "source": [
    "import pandas as pd\n",
    "import numpy as np\n",
    "import seaborn as sns\n",
    "import matplotlib.pyplot as plt"
   ]
  },
  {
   "cell_type": "code",
   "execution_count": 2,
   "id": "67e7259e",
   "metadata": {},
   "outputs": [
    {
     "data": {
      "text/plain": [
       "(4073, 16)"
      ]
     },
     "execution_count": 2,
     "metadata": {},
     "output_type": "execute_result"
    }
   ],
   "source": [
    "unpopular = pd.read_csv('unpopular_songs.csv',index_col=0)\n",
    "unpopular.shape "
   ]
  },
  {
   "cell_type": "code",
   "execution_count": 9,
   "id": "fa5cf125",
   "metadata": {},
   "outputs": [
    {
     "data": {
      "text/plain": [
       "danceability\n",
       "0.722       El Javi\n",
       "0.955          Br80\n",
       "0.753    JpThaRuler\n",
       "0.650    JpThaRuler\n",
       "0.690    JpThaRuler\n",
       "            ...    \n",
       "0.862        T-Tomp\n",
       "0.686        T-Tomp\n",
       "0.725        T-Tomp\n",
       "0.763        T-Tomp\n",
       "0.724        T-Tomp\n",
       "Name: track_artist, Length: 4073, dtype: object"
      ]
     },
     "execution_count": 9,
     "metadata": {},
     "output_type": "execute_result"
    }
   ],
   "source": [
    "unpopular['track_artist']"
   ]
  },
  {
   "cell_type": "code",
   "execution_count": 18,
   "id": "304cb514",
   "metadata": {},
   "outputs": [
    {
     "data": {
      "text/html": [
       "<div>\n",
       "<style scoped>\n",
       "    .dataframe tbody tr th:only-of-type {\n",
       "        vertical-align: middle;\n",
       "    }\n",
       "\n",
       "    .dataframe tbody tr th {\n",
       "        vertical-align: top;\n",
       "    }\n",
       "\n",
       "    .dataframe thead th {\n",
       "        text-align: right;\n",
       "    }\n",
       "</style>\n",
       "<table border=\"1\" class=\"dataframe\">\n",
       "  <thead>\n",
       "    <tr style=\"text-align: right;\">\n",
       "      <th></th>\n",
       "      <th>energy</th>\n",
       "      <th>key</th>\n",
       "      <th>loudness</th>\n",
       "      <th>mode</th>\n",
       "      <th>speechiness</th>\n",
       "      <th>acousticness</th>\n",
       "      <th>instrumentalness</th>\n",
       "      <th>liveness</th>\n",
       "      <th>valence</th>\n",
       "      <th>tempo</th>\n",
       "      <th>duration_ms</th>\n",
       "      <th>explicit</th>\n",
       "      <th>popularity</th>\n",
       "      <th>track_name</th>\n",
       "      <th>track_artist</th>\n",
       "      <th>track_id</th>\n",
       "    </tr>\n",
       "    <tr>\n",
       "      <th>danceability</th>\n",
       "      <th></th>\n",
       "      <th></th>\n",
       "      <th></th>\n",
       "      <th></th>\n",
       "      <th></th>\n",
       "      <th></th>\n",
       "      <th></th>\n",
       "      <th></th>\n",
       "      <th></th>\n",
       "      <th></th>\n",
       "      <th></th>\n",
       "      <th></th>\n",
       "      <th></th>\n",
       "      <th></th>\n",
       "      <th></th>\n",
       "      <th></th>\n",
       "    </tr>\n",
       "  </thead>\n",
       "  <tbody>\n",
       "    <tr>\n",
       "      <th>0.691</th>\n",
       "      <td>0.812</td>\n",
       "      <td>0</td>\n",
       "      <td>-7.772</td>\n",
       "      <td>1</td>\n",
       "      <td>0.0558</td>\n",
       "      <td>0.0433</td>\n",
       "      <td>0.000001</td>\n",
       "      <td>0.299</td>\n",
       "      <td>0.685</td>\n",
       "      <td>127.568</td>\n",
       "      <td>220627</td>\n",
       "      <td>False</td>\n",
       "      <td>1</td>\n",
       "      <td>Hungry Like the Wolf</td>\n",
       "      <td>Duran Duran</td>\n",
       "      <td>4z15o6XKr9k1gVoC53HULV</td>\n",
       "    </tr>\n",
       "    <tr>\n",
       "      <th>0.634</th>\n",
       "      <td>0.787</td>\n",
       "      <td>4</td>\n",
       "      <td>-6.876</td>\n",
       "      <td>0</td>\n",
       "      <td>0.0834</td>\n",
       "      <td>0.0031</td>\n",
       "      <td>0.000000</td>\n",
       "      <td>0.120</td>\n",
       "      <td>0.319</td>\n",
       "      <td>123.775</td>\n",
       "      <td>343933</td>\n",
       "      <td>False</td>\n",
       "      <td>0</td>\n",
       "      <td>Friends of Mine</td>\n",
       "      <td>Duran Duran</td>\n",
       "      <td>5TFqgeAsbgDhCiryb3Wiav</td>\n",
       "    </tr>\n",
       "  </tbody>\n",
       "</table>\n",
       "</div>"
      ],
      "text/plain": [
       "              energy  key  loudness  mode  speechiness  acousticness  \\\n",
       "danceability                                                           \n",
       "0.691          0.812    0    -7.772     1       0.0558        0.0433   \n",
       "0.634          0.787    4    -6.876     0       0.0834        0.0031   \n",
       "\n",
       "              instrumentalness  liveness  valence    tempo  duration_ms  \\\n",
       "danceability                                                              \n",
       "0.691                 0.000001     0.299    0.685  127.568       220627   \n",
       "0.634                 0.000000     0.120    0.319  123.775       343933   \n",
       "\n",
       "              explicit  popularity            track_name track_artist  \\\n",
       "danceability                                                            \n",
       "0.691            False           1  Hungry Like the Wolf  Duran Duran   \n",
       "0.634            False           0       Friends of Mine  Duran Duran   \n",
       "\n",
       "                            track_id  \n",
       "danceability                          \n",
       "0.691         4z15o6XKr9k1gVoC53HULV  \n",
       "0.634         5TFqgeAsbgDhCiryb3Wiav  "
      ]
     },
     "execution_count": 18,
     "metadata": {},
     "output_type": "execute_result"
    }
   ],
   "source": [
    "unpopular.loc[unpopular[\"track_artist\"] == \"Duran Duran\"]"
   ]
  },
  {
   "cell_type": "code",
   "execution_count": 20,
   "id": "71d7b7f1",
   "metadata": {},
   "outputs": [],
   "source": [
    "example = unpopular.loc[unpopular[\"track_name\"] == \"Friends of Mine\"]"
   ]
  },
  {
   "cell_type": "code",
   "execution_count": 21,
   "id": "0c43a01e",
   "metadata": {},
   "outputs": [],
   "source": [
    "example= example.reindex(columns=['energy','key','speechiness','acousticness','instrumentalness','liveness'])"
   ]
  },
  {
   "cell_type": "code",
   "execution_count": 24,
   "id": "b4fd5443",
   "metadata": {},
   "outputs": [],
   "source": [
    "example=example.reset_index()"
   ]
  },
  {
   "cell_type": "code",
   "execution_count": 25,
   "id": "150db93c",
   "metadata": {},
   "outputs": [
    {
     "data": {
      "text/html": [
       "<div>\n",
       "<style scoped>\n",
       "    .dataframe tbody tr th:only-of-type {\n",
       "        vertical-align: middle;\n",
       "    }\n",
       "\n",
       "    .dataframe tbody tr th {\n",
       "        vertical-align: top;\n",
       "    }\n",
       "\n",
       "    .dataframe thead th {\n",
       "        text-align: right;\n",
       "    }\n",
       "</style>\n",
       "<table border=\"1\" class=\"dataframe\">\n",
       "  <thead>\n",
       "    <tr style=\"text-align: right;\">\n",
       "      <th></th>\n",
       "      <th>danceability</th>\n",
       "      <th>energy</th>\n",
       "      <th>key</th>\n",
       "      <th>speechiness</th>\n",
       "      <th>acousticness</th>\n",
       "      <th>instrumentalness</th>\n",
       "      <th>liveness</th>\n",
       "    </tr>\n",
       "  </thead>\n",
       "  <tbody>\n",
       "    <tr>\n",
       "      <th>0</th>\n",
       "      <td>0.634</td>\n",
       "      <td>0.787</td>\n",
       "      <td>4</td>\n",
       "      <td>0.0834</td>\n",
       "      <td>0.0031</td>\n",
       "      <td>0.0</td>\n",
       "      <td>0.12</td>\n",
       "    </tr>\n",
       "  </tbody>\n",
       "</table>\n",
       "</div>"
      ],
      "text/plain": [
       "   danceability  energy  key  speechiness  acousticness  instrumentalness  \\\n",
       "0         0.634   0.787    4       0.0834        0.0031               0.0   \n",
       "\n",
       "   liveness  \n",
       "0      0.12  "
      ]
     },
     "execution_count": 25,
     "metadata": {},
     "output_type": "execute_result"
    }
   ],
   "source": [
    "example"
   ]
  },
  {
   "cell_type": "code",
   "execution_count": 26,
   "id": "798d3a9f",
   "metadata": {},
   "outputs": [],
   "source": [
    "example.to_csv('example.csv')"
   ]
  },
  {
   "cell_type": "code",
   "execution_count": null,
   "id": "df6d7db1",
   "metadata": {},
   "outputs": [],
   "source": []
  }
 ],
 "metadata": {
  "kernelspec": {
   "display_name": "Python 3 (ipykernel)",
   "language": "python",
   "name": "python3"
  },
  "language_info": {
   "codemirror_mode": {
    "name": "ipython",
    "version": 3
   },
   "file_extension": ".py",
   "mimetype": "text/x-python",
   "name": "python",
   "nbconvert_exporter": "python",
   "pygments_lexer": "ipython3",
   "version": "3.9.13"
  }
 },
 "nbformat": 4,
 "nbformat_minor": 5
}
